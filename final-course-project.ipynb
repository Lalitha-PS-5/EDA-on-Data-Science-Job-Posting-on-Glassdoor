{
 "cells": [
  {
   "cell_type": "markdown",
   "metadata": {},
   "source": [
    "# Introduction\n",
    "\n",
    "We'll use the glassdoor survey dataset for our datascience jobs data analysis. This is an annual survey extracted from  glassdoor. Downloaded the CSV manually and uploaded it via Jupyter's GUI. The file size is 3.14MB with 1000 rows and 14 columns.\n",
    "\n",
    "\n",
    "Let's install and import jovian , my favorate repository :) which helps me for improving my dataAnalysis even later whenever I want :) "
   ]
  },
  {
   "cell_type": "code",
   "execution_count": 1,
   "metadata": {},
   "outputs": [],
   "source": [
    "!pip install jovian --upgrade --quiet"
   ]
  },
  {
   "cell_type": "code",
   "execution_count": 2,
   "metadata": {},
   "outputs": [],
   "source": [
    "import jovian"
   ]
  },
  {
   "cell_type": "code",
   "execution_count": 3,
   "metadata": {},
   "outputs": [],
   "source": [
    "project_name = \"datascience_jobs_data_analysis\" \n"
   ]
  },
  {
   "cell_type": "code",
   "execution_count": 4,
   "metadata": {},
   "outputs": [
    {
     "data": {
      "application/javascript": [
       "window.require && require([\"base/js/namespace\"],function(Jupyter){Jupyter.notebook.save_checkpoint()})"
      ],
      "text/plain": [
       "<IPython.core.display.Javascript object>"
      ]
     },
     "metadata": {},
     "output_type": "display_data"
    },
    {
     "name": "stdout",
     "output_type": "stream",
     "text": [
      "[jovian] Updating notebook \"lalithaps036/datascience-jobs-data-analysis\" on https://jovian.ai\u001b[0m\n",
      "[jovian] Committed successfully! https://jovian.ai/lalithaps036/datascience-jobs-data-analysis\u001b[0m\n"
     ]
    },
    {
     "data": {
      "text/plain": [
       "'https://jovian.ai/lalithaps036/datascience-jobs-data-analysis'"
      ]
     },
     "execution_count": 4,
     "metadata": {},
     "output_type": "execute_result"
    }
   ],
   "source": [
    "jovian.commit(project=project_name)\n"
   ]
  },
  {
   "cell_type": "markdown",
   "metadata": {},
   "source": [
    "Let's install pandas , an amazing dataframe which helps in dealing with my dataset most effectively and conviniently  :)"
   ]
  },
  {
   "cell_type": "code",
   "execution_count": 5,
   "metadata": {},
   "outputs": [
    {
     "name": "stdout",
     "output_type": "stream",
     "text": [
      "Requirement already satisfied: pandas in /opt/conda/lib/python3.9/site-packages (1.3.3)\r\n",
      "Requirement already satisfied: numpy>=1.17.3 in /opt/conda/lib/python3.9/site-packages (from pandas) (1.20.3)\r\n",
      "Requirement already satisfied: python-dateutil>=2.7.3 in /opt/conda/lib/python3.9/site-packages (from pandas) (2.8.2)\r\n",
      "Requirement already satisfied: pytz>=2017.3 in /opt/conda/lib/python3.9/site-packages (from pandas) (2021.1)\r\n",
      "Requirement already satisfied: six>=1.5 in /opt/conda/lib/python3.9/site-packages (from python-dateutil>=2.7.3->pandas) (1.16.0)\r\n"
     ]
    }
   ],
   "source": [
    "!pip install pandas"
   ]
  },
  {
   "cell_type": "code",
   "execution_count": 6,
   "metadata": {},
   "outputs": [],
   "source": [
    "import pandas as pd"
   ]
  },
  {
   "cell_type": "markdown",
   "metadata": {},
   "source": [
    "Now Let's read dataset using read_csv command  and  look into the dataset, i.e what it actually contains and get some insights from the same  :) "
   ]
  },
  {
   "cell_type": "code",
   "execution_count": 15,
   "metadata": {},
   "outputs": [
    {
     "data": {
      "text/html": [
       "<div>\n",
       "<style scoped>\n",
       "    .dataframe tbody tr th:only-of-type {\n",
       "        vertical-align: middle;\n",
       "    }\n",
       "\n",
       "    .dataframe tbody tr th {\n",
       "        vertical-align: top;\n",
       "    }\n",
       "\n",
       "    .dataframe thead th {\n",
       "        text-align: right;\n",
       "    }\n",
       "</style>\n",
       "<table border=\"1\" class=\"dataframe\">\n",
       "  <thead>\n",
       "    <tr style=\"text-align: right;\">\n",
       "      <th></th>\n",
       "      <th>Job Title</th>\n",
       "      <th>Salary Estimate</th>\n",
       "      <th>Job Description</th>\n",
       "      <th>Rating</th>\n",
       "      <th>Company Name</th>\n",
       "      <th>Location</th>\n",
       "      <th>Headquarters</th>\n",
       "      <th>Size</th>\n",
       "      <th>Founded</th>\n",
       "      <th>Type of ownership</th>\n",
       "      <th>Industry</th>\n",
       "      <th>Sector</th>\n",
       "      <th>Revenue</th>\n",
       "      <th>Competitors</th>\n",
       "    </tr>\n",
       "  </thead>\n",
       "  <tbody>\n",
       "    <tr>\n",
       "      <th>0</th>\n",
       "      <td>Data Scientist</td>\n",
       "      <td>$77K-$92K (Glassdoor Est.)</td>\n",
       "      <td>Data Scientist\\nAffinity Solutions / Marketing...</td>\n",
       "      <td>2.9</td>\n",
       "      <td>Affinity Solutions\\n2.9</td>\n",
       "      <td>New York, NY</td>\n",
       "      <td>New York, NY</td>\n",
       "      <td>51 to 200 employees</td>\n",
       "      <td>1998</td>\n",
       "      <td>Company - Private</td>\n",
       "      <td>Advertising &amp; Marketing</td>\n",
       "      <td>Business Services</td>\n",
       "      <td>Unknown / Non-Applicable</td>\n",
       "      <td>Commerce Signals, Cardlytics, Yodlee</td>\n",
       "    </tr>\n",
       "    <tr>\n",
       "      <th>1</th>\n",
       "      <td>Data Scientist</td>\n",
       "      <td>$77K-$92K (Glassdoor Est.)</td>\n",
       "      <td>Secure our Nation, Ignite your Future\\n\\nSumma...</td>\n",
       "      <td>4.1</td>\n",
       "      <td>ManTech\\n4.1</td>\n",
       "      <td>Chantilly, VA</td>\n",
       "      <td>Herndon, VA</td>\n",
       "      <td>5001 to 10000 employees</td>\n",
       "      <td>1968</td>\n",
       "      <td>Company - Public</td>\n",
       "      <td>Research &amp; Development</td>\n",
       "      <td>Business Services</td>\n",
       "      <td>₹100 to ₹500 billion (INR)</td>\n",
       "      <td>-1</td>\n",
       "    </tr>\n",
       "    <tr>\n",
       "      <th>2</th>\n",
       "      <td>Data Scientist</td>\n",
       "      <td>$77K-$92K (Glassdoor Est.)</td>\n",
       "      <td>By clicking the Apply button, I understand tha...</td>\n",
       "      <td>3.7</td>\n",
       "      <td>Takeda\\n3.7</td>\n",
       "      <td>Cambridge, MA</td>\n",
       "      <td>OSAKA, Japan</td>\n",
       "      <td>10000+ employees</td>\n",
       "      <td>1781</td>\n",
       "      <td>Company - Public</td>\n",
       "      <td>Biotech &amp; Pharmaceuticals</td>\n",
       "      <td>Biotech &amp; Pharmaceuticals</td>\n",
       "      <td>₹500+ billion (INR)</td>\n",
       "      <td>Novartis, Baxter, Pfizer</td>\n",
       "    </tr>\n",
       "    <tr>\n",
       "      <th>3</th>\n",
       "      <td>Data Scientist</td>\n",
       "      <td>$77K-$92K (Glassdoor Est.)</td>\n",
       "      <td>Join Our Growing Team\\nA career with A Place f...</td>\n",
       "      <td>3.0</td>\n",
       "      <td>A Place for Mom\\n3.0</td>\n",
       "      <td>Overland Park, KS</td>\n",
       "      <td>New York, NY</td>\n",
       "      <td>501 to 1000 employees</td>\n",
       "      <td>2000</td>\n",
       "      <td>Company - Private</td>\n",
       "      <td>Healthcare Services &amp; Hospitals</td>\n",
       "      <td>Healthcare</td>\n",
       "      <td>Unknown / Non-Applicable</td>\n",
       "      <td>Enlivant, Sunrise Senior Living, Brookdale Sen...</td>\n",
       "    </tr>\n",
       "    <tr>\n",
       "      <th>4</th>\n",
       "      <td>Data Scientist</td>\n",
       "      <td>$77K-$92K (Glassdoor Est.)</td>\n",
       "      <td>We are looking for Data Scientists who are int...</td>\n",
       "      <td>3.7</td>\n",
       "      <td>GovTech\\n3.7</td>\n",
       "      <td>San Francisco, CA</td>\n",
       "      <td>Singapore, Singapore</td>\n",
       "      <td>1001 to 5000 employees</td>\n",
       "      <td>2016</td>\n",
       "      <td>Government</td>\n",
       "      <td>Government Agencies</td>\n",
       "      <td>Government</td>\n",
       "      <td>Unknown / Non-Applicable</td>\n",
       "      <td>-1</td>\n",
       "    </tr>\n",
       "    <tr>\n",
       "      <th>...</th>\n",
       "      <td>...</td>\n",
       "      <td>...</td>\n",
       "      <td>...</td>\n",
       "      <td>...</td>\n",
       "      <td>...</td>\n",
       "      <td>...</td>\n",
       "      <td>...</td>\n",
       "      <td>...</td>\n",
       "      <td>...</td>\n",
       "      <td>...</td>\n",
       "      <td>...</td>\n",
       "      <td>...</td>\n",
       "      <td>...</td>\n",
       "      <td>...</td>\n",
       "    </tr>\n",
       "    <tr>\n",
       "      <th>995</th>\n",
       "      <td>Data Scientist</td>\n",
       "      <td>$105K-$138K (Glassdoor Est.)</td>\n",
       "      <td>• Be one of the first to join our rapidly grow...</td>\n",
       "      <td>5.0</td>\n",
       "      <td>Shelf Engine\\n5.0</td>\n",
       "      <td>Seattle, WA</td>\n",
       "      <td>Seattle, WA</td>\n",
       "      <td>1 to 50 employees</td>\n",
       "      <td>-1</td>\n",
       "      <td>Company - Private</td>\n",
       "      <td>-1</td>\n",
       "      <td>-1</td>\n",
       "      <td>Unknown / Non-Applicable</td>\n",
       "      <td>-1</td>\n",
       "    </tr>\n",
       "    <tr>\n",
       "      <th>996</th>\n",
       "      <td>Analytic Consultant 4 - Branch Banking Reporti...</td>\n",
       "      <td>$105K-$138K (Glassdoor Est.)</td>\n",
       "      <td>Job Description\\n\\nImportant Note: During the ...</td>\n",
       "      <td>3.6</td>\n",
       "      <td>Wells Fargo\\n3.6</td>\n",
       "      <td>Dallas, TX</td>\n",
       "      <td>San Francisco, CA</td>\n",
       "      <td>10000+ employees</td>\n",
       "      <td>1852</td>\n",
       "      <td>Company - Public</td>\n",
       "      <td>Banks &amp; Building Societies</td>\n",
       "      <td>Finance</td>\n",
       "      <td>₹500+ billion (INR)</td>\n",
       "      <td>-1</td>\n",
       "    </tr>\n",
       "    <tr>\n",
       "      <th>997</th>\n",
       "      <td>Data Scientist</td>\n",
       "      <td>$105K-$138K (Glassdoor Est.)</td>\n",
       "      <td>THE COMPANY\\n\\nFannie Mae provides reliable, l...</td>\n",
       "      <td>3.6</td>\n",
       "      <td>Fannie Mae\\n3.6</td>\n",
       "      <td>Washington, DC</td>\n",
       "      <td>Washington, DC</td>\n",
       "      <td>5001 to 10000 employees</td>\n",
       "      <td>1938</td>\n",
       "      <td>Company - Public</td>\n",
       "      <td>Investment Banking &amp; Asset Management</td>\n",
       "      <td>Finance</td>\n",
       "      <td>₹500+ billion (INR)</td>\n",
       "      <td>Freddie Mac</td>\n",
       "    </tr>\n",
       "    <tr>\n",
       "      <th>998</th>\n",
       "      <td>Data Scientist</td>\n",
       "      <td>$105K-$138K (Glassdoor Est.)</td>\n",
       "      <td>Ready to write the best chapter of your career...</td>\n",
       "      <td>3.9</td>\n",
       "      <td>XSELL Technologies\\n3.9</td>\n",
       "      <td>Chicago, IL</td>\n",
       "      <td>Chicago, IL</td>\n",
       "      <td>51 to 200 employees</td>\n",
       "      <td>2014</td>\n",
       "      <td>Company - Private</td>\n",
       "      <td>Enterprise Software &amp; Network Solutions</td>\n",
       "      <td>Information Technology</td>\n",
       "      <td>Unknown / Non-Applicable</td>\n",
       "      <td>-1</td>\n",
       "    </tr>\n",
       "    <tr>\n",
       "      <th>999</th>\n",
       "      <td>Clinical Data Analyst</td>\n",
       "      <td>$105K-$138K (Glassdoor Est.)</td>\n",
       "      <td>About Us:\\n\\nNYSTEC is a non-profit technology...</td>\n",
       "      <td>3.8</td>\n",
       "      <td>NYSTEC\\n3.8</td>\n",
       "      <td>New York, NY</td>\n",
       "      <td>Rome, NY</td>\n",
       "      <td>51 to 200 employees</td>\n",
       "      <td>1996</td>\n",
       "      <td>Non-profit Organisation</td>\n",
       "      <td>Consulting</td>\n",
       "      <td>Business Services</td>\n",
       "      <td>₹1 to ₹5 billion (INR)</td>\n",
       "      <td>KPMG, Accenture, Deloitte</td>\n",
       "    </tr>\n",
       "  </tbody>\n",
       "</table>\n",
       "<p>1000 rows × 14 columns</p>\n",
       "</div>"
      ],
      "text/plain": [
       "                                             Job Title  \\\n",
       "0                                       Data Scientist   \n",
       "1                                       Data Scientist   \n",
       "2                                       Data Scientist   \n",
       "3                                       Data Scientist   \n",
       "4                                       Data Scientist   \n",
       "..                                                 ...   \n",
       "995                                     Data Scientist   \n",
       "996  Analytic Consultant 4 - Branch Banking Reporti...   \n",
       "997                                     Data Scientist   \n",
       "998                                     Data Scientist   \n",
       "999                              Clinical Data Analyst   \n",
       "\n",
       "                  Salary Estimate  \\\n",
       "0      $77K-$92K (Glassdoor Est.)   \n",
       "1      $77K-$92K (Glassdoor Est.)   \n",
       "2      $77K-$92K (Glassdoor Est.)   \n",
       "3      $77K-$92K (Glassdoor Est.)   \n",
       "4      $77K-$92K (Glassdoor Est.)   \n",
       "..                            ...   \n",
       "995  $105K-$138K (Glassdoor Est.)   \n",
       "996  $105K-$138K (Glassdoor Est.)   \n",
       "997  $105K-$138K (Glassdoor Est.)   \n",
       "998  $105K-$138K (Glassdoor Est.)   \n",
       "999  $105K-$138K (Glassdoor Est.)   \n",
       "\n",
       "                                       Job Description  Rating  \\\n",
       "0    Data Scientist\\nAffinity Solutions / Marketing...     2.9   \n",
       "1    Secure our Nation, Ignite your Future\\n\\nSumma...     4.1   \n",
       "2    By clicking the Apply button, I understand tha...     3.7   \n",
       "3    Join Our Growing Team\\nA career with A Place f...     3.0   \n",
       "4    We are looking for Data Scientists who are int...     3.7   \n",
       "..                                                 ...     ...   \n",
       "995  • Be one of the first to join our rapidly grow...     5.0   \n",
       "996  Job Description\\n\\nImportant Note: During the ...     3.6   \n",
       "997  THE COMPANY\\n\\nFannie Mae provides reliable, l...     3.6   \n",
       "998  Ready to write the best chapter of your career...     3.9   \n",
       "999  About Us:\\n\\nNYSTEC is a non-profit technology...     3.8   \n",
       "\n",
       "                Company Name           Location          Headquarters  \\\n",
       "0    Affinity Solutions\\n2.9       New York, NY          New York, NY   \n",
       "1               ManTech\\n4.1      Chantilly, VA           Herndon, VA   \n",
       "2                Takeda\\n3.7      Cambridge, MA          OSAKA, Japan   \n",
       "3       A Place for Mom\\n3.0  Overland Park, KS          New York, NY   \n",
       "4               GovTech\\n3.7  San Francisco, CA  Singapore, Singapore   \n",
       "..                       ...                ...                   ...   \n",
       "995        Shelf Engine\\n5.0        Seattle, WA           Seattle, WA   \n",
       "996         Wells Fargo\\n3.6         Dallas, TX     San Francisco, CA   \n",
       "997          Fannie Mae\\n3.6     Washington, DC        Washington, DC   \n",
       "998  XSELL Technologies\\n3.9        Chicago, IL           Chicago, IL   \n",
       "999              NYSTEC\\n3.8       New York, NY              Rome, NY   \n",
       "\n",
       "                        Size  Founded        Type of ownership  \\\n",
       "0        51 to 200 employees     1998        Company - Private   \n",
       "1    5001 to 10000 employees     1968         Company - Public   \n",
       "2           10000+ employees     1781         Company - Public   \n",
       "3      501 to 1000 employees     2000        Company - Private   \n",
       "4     1001 to 5000 employees     2016               Government   \n",
       "..                       ...      ...                      ...   \n",
       "995        1 to 50 employees       -1        Company - Private   \n",
       "996         10000+ employees     1852         Company - Public   \n",
       "997  5001 to 10000 employees     1938         Company - Public   \n",
       "998      51 to 200 employees     2014        Company - Private   \n",
       "999      51 to 200 employees     1996  Non-profit Organisation   \n",
       "\n",
       "                                    Industry                     Sector  \\\n",
       "0                    Advertising & Marketing          Business Services   \n",
       "1                     Research & Development          Business Services   \n",
       "2                  Biotech & Pharmaceuticals  Biotech & Pharmaceuticals   \n",
       "3            Healthcare Services & Hospitals                 Healthcare   \n",
       "4                        Government Agencies                 Government   \n",
       "..                                       ...                        ...   \n",
       "995                                       -1                         -1   \n",
       "996               Banks & Building Societies                    Finance   \n",
       "997    Investment Banking & Asset Management                    Finance   \n",
       "998  Enterprise Software & Network Solutions     Information Technology   \n",
       "999                               Consulting          Business Services   \n",
       "\n",
       "                        Revenue  \\\n",
       "0      Unknown / Non-Applicable   \n",
       "1    ₹100 to ₹500 billion (INR)   \n",
       "2           ₹500+ billion (INR)   \n",
       "3      Unknown / Non-Applicable   \n",
       "4      Unknown / Non-Applicable   \n",
       "..                          ...   \n",
       "995    Unknown / Non-Applicable   \n",
       "996         ₹500+ billion (INR)   \n",
       "997         ₹500+ billion (INR)   \n",
       "998    Unknown / Non-Applicable   \n",
       "999      ₹1 to ₹5 billion (INR)   \n",
       "\n",
       "                                           Competitors  \n",
       "0                 Commerce Signals, Cardlytics, Yodlee  \n",
       "1                                                   -1  \n",
       "2                             Novartis, Baxter, Pfizer  \n",
       "3    Enlivant, Sunrise Senior Living, Brookdale Sen...  \n",
       "4                                                   -1  \n",
       "..                                                 ...  \n",
       "995                                                 -1  \n",
       "996                                                 -1  \n",
       "997                                        Freddie Mac  \n",
       "998                                                 -1  \n",
       "999                          KPMG, Accenture, Deloitte  \n",
       "\n",
       "[1000 rows x 14 columns]"
      ]
     },
     "execution_count": 15,
     "metadata": {},
     "output_type": "execute_result"
    }
   ],
   "source": [
    "survey_raw_df = pd.read_csv('glassdoor_jobs_2.csv')\n",
    "survey_raw_df"
   ]
  },
  {
   "cell_type": "code",
   "execution_count": 16,
   "metadata": {},
   "outputs": [
    {
     "data": {
      "text/html": [
       "<div>\n",
       "<style scoped>\n",
       "    .dataframe tbody tr th:only-of-type {\n",
       "        vertical-align: middle;\n",
       "    }\n",
       "\n",
       "    .dataframe tbody tr th {\n",
       "        vertical-align: top;\n",
       "    }\n",
       "\n",
       "    .dataframe thead th {\n",
       "        text-align: right;\n",
       "    }\n",
       "</style>\n",
       "<table border=\"1\" class=\"dataframe\">\n",
       "  <thead>\n",
       "    <tr style=\"text-align: right;\">\n",
       "      <th></th>\n",
       "      <th>Job Title</th>\n",
       "      <th>Salary Estimate</th>\n",
       "      <th>Job Description</th>\n",
       "      <th>Rating</th>\n",
       "      <th>Company Name</th>\n",
       "      <th>Location</th>\n",
       "      <th>Headquarters</th>\n",
       "      <th>Size</th>\n",
       "      <th>Founded</th>\n",
       "      <th>Type of ownership</th>\n",
       "      <th>Industry</th>\n",
       "      <th>Sector</th>\n",
       "      <th>Revenue</th>\n",
       "      <th>Competitors</th>\n",
       "    </tr>\n",
       "  </thead>\n",
       "  <tbody>\n",
       "    <tr>\n",
       "      <th>0</th>\n",
       "      <td>Data Scientist</td>\n",
       "      <td>$77K-$92K (Glassdoor Est.)</td>\n",
       "      <td>Data Scientist\\nAffinity Solutions / Marketing...</td>\n",
       "      <td>2.9</td>\n",
       "      <td>Affinity Solutions\\n2.9</td>\n",
       "      <td>New York, NY</td>\n",
       "      <td>New York, NY</td>\n",
       "      <td>51 to 200 employees</td>\n",
       "      <td>1998</td>\n",
       "      <td>Company - Private</td>\n",
       "      <td>Advertising &amp; Marketing</td>\n",
       "      <td>Business Services</td>\n",
       "      <td>Unknown / Non-Applicable</td>\n",
       "      <td>Commerce Signals, Cardlytics, Yodlee</td>\n",
       "    </tr>\n",
       "    <tr>\n",
       "      <th>1</th>\n",
       "      <td>Data Scientist</td>\n",
       "      <td>$77K-$92K (Glassdoor Est.)</td>\n",
       "      <td>Secure our Nation, Ignite your Future\\n\\nSumma...</td>\n",
       "      <td>4.1</td>\n",
       "      <td>ManTech\\n4.1</td>\n",
       "      <td>Chantilly, VA</td>\n",
       "      <td>Herndon, VA</td>\n",
       "      <td>5001 to 10000 employees</td>\n",
       "      <td>1968</td>\n",
       "      <td>Company - Public</td>\n",
       "      <td>Research &amp; Development</td>\n",
       "      <td>Business Services</td>\n",
       "      <td>₹100 to ₹500 billion (INR)</td>\n",
       "      <td>-1</td>\n",
       "    </tr>\n",
       "    <tr>\n",
       "      <th>2</th>\n",
       "      <td>Data Scientist</td>\n",
       "      <td>$77K-$92K (Glassdoor Est.)</td>\n",
       "      <td>By clicking the Apply button, I understand tha...</td>\n",
       "      <td>3.7</td>\n",
       "      <td>Takeda\\n3.7</td>\n",
       "      <td>Cambridge, MA</td>\n",
       "      <td>OSAKA, Japan</td>\n",
       "      <td>10000+ employees</td>\n",
       "      <td>1781</td>\n",
       "      <td>Company - Public</td>\n",
       "      <td>Biotech &amp; Pharmaceuticals</td>\n",
       "      <td>Biotech &amp; Pharmaceuticals</td>\n",
       "      <td>₹500+ billion (INR)</td>\n",
       "      <td>Novartis, Baxter, Pfizer</td>\n",
       "    </tr>\n",
       "    <tr>\n",
       "      <th>3</th>\n",
       "      <td>Data Scientist</td>\n",
       "      <td>$77K-$92K (Glassdoor Est.)</td>\n",
       "      <td>Join Our Growing Team\\nA career with A Place f...</td>\n",
       "      <td>3.0</td>\n",
       "      <td>A Place for Mom\\n3.0</td>\n",
       "      <td>Overland Park, KS</td>\n",
       "      <td>New York, NY</td>\n",
       "      <td>501 to 1000 employees</td>\n",
       "      <td>2000</td>\n",
       "      <td>Company - Private</td>\n",
       "      <td>Healthcare Services &amp; Hospitals</td>\n",
       "      <td>Healthcare</td>\n",
       "      <td>Unknown / Non-Applicable</td>\n",
       "      <td>Enlivant, Sunrise Senior Living, Brookdale Sen...</td>\n",
       "    </tr>\n",
       "    <tr>\n",
       "      <th>4</th>\n",
       "      <td>Data Scientist</td>\n",
       "      <td>$77K-$92K (Glassdoor Est.)</td>\n",
       "      <td>We are looking for Data Scientists who are int...</td>\n",
       "      <td>3.7</td>\n",
       "      <td>GovTech\\n3.7</td>\n",
       "      <td>San Francisco, CA</td>\n",
       "      <td>Singapore, Singapore</td>\n",
       "      <td>1001 to 5000 employees</td>\n",
       "      <td>2016</td>\n",
       "      <td>Government</td>\n",
       "      <td>Government Agencies</td>\n",
       "      <td>Government</td>\n",
       "      <td>Unknown / Non-Applicable</td>\n",
       "      <td>-1</td>\n",
       "    </tr>\n",
       "    <tr>\n",
       "      <th>...</th>\n",
       "      <td>...</td>\n",
       "      <td>...</td>\n",
       "      <td>...</td>\n",
       "      <td>...</td>\n",
       "      <td>...</td>\n",
       "      <td>...</td>\n",
       "      <td>...</td>\n",
       "      <td>...</td>\n",
       "      <td>...</td>\n",
       "      <td>...</td>\n",
       "      <td>...</td>\n",
       "      <td>...</td>\n",
       "      <td>...</td>\n",
       "      <td>...</td>\n",
       "    </tr>\n",
       "    <tr>\n",
       "      <th>995</th>\n",
       "      <td>Data Scientist</td>\n",
       "      <td>$105K-$138K (Glassdoor Est.)</td>\n",
       "      <td>• Be one of the first to join our rapidly grow...</td>\n",
       "      <td>5.0</td>\n",
       "      <td>Shelf Engine\\n5.0</td>\n",
       "      <td>Seattle, WA</td>\n",
       "      <td>Seattle, WA</td>\n",
       "      <td>1 to 50 employees</td>\n",
       "      <td>-1</td>\n",
       "      <td>Company - Private</td>\n",
       "      <td>-1</td>\n",
       "      <td>-1</td>\n",
       "      <td>Unknown / Non-Applicable</td>\n",
       "      <td>-1</td>\n",
       "    </tr>\n",
       "    <tr>\n",
       "      <th>996</th>\n",
       "      <td>Analytic Consultant 4 - Branch Banking Reporti...</td>\n",
       "      <td>$105K-$138K (Glassdoor Est.)</td>\n",
       "      <td>Job Description\\n\\nImportant Note: During the ...</td>\n",
       "      <td>3.6</td>\n",
       "      <td>Wells Fargo\\n3.6</td>\n",
       "      <td>Dallas, TX</td>\n",
       "      <td>San Francisco, CA</td>\n",
       "      <td>10000+ employees</td>\n",
       "      <td>1852</td>\n",
       "      <td>Company - Public</td>\n",
       "      <td>Banks &amp; Building Societies</td>\n",
       "      <td>Finance</td>\n",
       "      <td>₹500+ billion (INR)</td>\n",
       "      <td>-1</td>\n",
       "    </tr>\n",
       "    <tr>\n",
       "      <th>997</th>\n",
       "      <td>Data Scientist</td>\n",
       "      <td>$105K-$138K (Glassdoor Est.)</td>\n",
       "      <td>THE COMPANY\\n\\nFannie Mae provides reliable, l...</td>\n",
       "      <td>3.6</td>\n",
       "      <td>Fannie Mae\\n3.6</td>\n",
       "      <td>Washington, DC</td>\n",
       "      <td>Washington, DC</td>\n",
       "      <td>5001 to 10000 employees</td>\n",
       "      <td>1938</td>\n",
       "      <td>Company - Public</td>\n",
       "      <td>Investment Banking &amp; Asset Management</td>\n",
       "      <td>Finance</td>\n",
       "      <td>₹500+ billion (INR)</td>\n",
       "      <td>Freddie Mac</td>\n",
       "    </tr>\n",
       "    <tr>\n",
       "      <th>998</th>\n",
       "      <td>Data Scientist</td>\n",
       "      <td>$105K-$138K (Glassdoor Est.)</td>\n",
       "      <td>Ready to write the best chapter of your career...</td>\n",
       "      <td>3.9</td>\n",
       "      <td>XSELL Technologies\\n3.9</td>\n",
       "      <td>Chicago, IL</td>\n",
       "      <td>Chicago, IL</td>\n",
       "      <td>51 to 200 employees</td>\n",
       "      <td>2014</td>\n",
       "      <td>Company - Private</td>\n",
       "      <td>Enterprise Software &amp; Network Solutions</td>\n",
       "      <td>Information Technology</td>\n",
       "      <td>Unknown / Non-Applicable</td>\n",
       "      <td>-1</td>\n",
       "    </tr>\n",
       "    <tr>\n",
       "      <th>999</th>\n",
       "      <td>Clinical Data Analyst</td>\n",
       "      <td>$105K-$138K (Glassdoor Est.)</td>\n",
       "      <td>About Us:\\n\\nNYSTEC is a non-profit technology...</td>\n",
       "      <td>3.8</td>\n",
       "      <td>NYSTEC\\n3.8</td>\n",
       "      <td>New York, NY</td>\n",
       "      <td>Rome, NY</td>\n",
       "      <td>51 to 200 employees</td>\n",
       "      <td>1996</td>\n",
       "      <td>Non-profit Organisation</td>\n",
       "      <td>Consulting</td>\n",
       "      <td>Business Services</td>\n",
       "      <td>₹1 to ₹5 billion (INR)</td>\n",
       "      <td>KPMG, Accenture, Deloitte</td>\n",
       "    </tr>\n",
       "  </tbody>\n",
       "</table>\n",
       "<p>1000 rows × 14 columns</p>\n",
       "</div>"
      ],
      "text/plain": [
       "                                             Job Title  \\\n",
       "0                                       Data Scientist   \n",
       "1                                       Data Scientist   \n",
       "2                                       Data Scientist   \n",
       "3                                       Data Scientist   \n",
       "4                                       Data Scientist   \n",
       "..                                                 ...   \n",
       "995                                     Data Scientist   \n",
       "996  Analytic Consultant 4 - Branch Banking Reporti...   \n",
       "997                                     Data Scientist   \n",
       "998                                     Data Scientist   \n",
       "999                              Clinical Data Analyst   \n",
       "\n",
       "                  Salary Estimate  \\\n",
       "0      $77K-$92K (Glassdoor Est.)   \n",
       "1      $77K-$92K (Glassdoor Est.)   \n",
       "2      $77K-$92K (Glassdoor Est.)   \n",
       "3      $77K-$92K (Glassdoor Est.)   \n",
       "4      $77K-$92K (Glassdoor Est.)   \n",
       "..                            ...   \n",
       "995  $105K-$138K (Glassdoor Est.)   \n",
       "996  $105K-$138K (Glassdoor Est.)   \n",
       "997  $105K-$138K (Glassdoor Est.)   \n",
       "998  $105K-$138K (Glassdoor Est.)   \n",
       "999  $105K-$138K (Glassdoor Est.)   \n",
       "\n",
       "                                       Job Description  Rating  \\\n",
       "0    Data Scientist\\nAffinity Solutions / Marketing...     2.9   \n",
       "1    Secure our Nation, Ignite your Future\\n\\nSumma...     4.1   \n",
       "2    By clicking the Apply button, I understand tha...     3.7   \n",
       "3    Join Our Growing Team\\nA career with A Place f...     3.0   \n",
       "4    We are looking for Data Scientists who are int...     3.7   \n",
       "..                                                 ...     ...   \n",
       "995  • Be one of the first to join our rapidly grow...     5.0   \n",
       "996  Job Description\\n\\nImportant Note: During the ...     3.6   \n",
       "997  THE COMPANY\\n\\nFannie Mae provides reliable, l...     3.6   \n",
       "998  Ready to write the best chapter of your career...     3.9   \n",
       "999  About Us:\\n\\nNYSTEC is a non-profit technology...     3.8   \n",
       "\n",
       "                Company Name           Location          Headquarters  \\\n",
       "0    Affinity Solutions\\n2.9       New York, NY          New York, NY   \n",
       "1               ManTech\\n4.1      Chantilly, VA           Herndon, VA   \n",
       "2                Takeda\\n3.7      Cambridge, MA          OSAKA, Japan   \n",
       "3       A Place for Mom\\n3.0  Overland Park, KS          New York, NY   \n",
       "4               GovTech\\n3.7  San Francisco, CA  Singapore, Singapore   \n",
       "..                       ...                ...                   ...   \n",
       "995        Shelf Engine\\n5.0        Seattle, WA           Seattle, WA   \n",
       "996         Wells Fargo\\n3.6         Dallas, TX     San Francisco, CA   \n",
       "997          Fannie Mae\\n3.6     Washington, DC        Washington, DC   \n",
       "998  XSELL Technologies\\n3.9        Chicago, IL           Chicago, IL   \n",
       "999              NYSTEC\\n3.8       New York, NY              Rome, NY   \n",
       "\n",
       "                        Size  Founded        Type of ownership  \\\n",
       "0        51 to 200 employees     1998        Company - Private   \n",
       "1    5001 to 10000 employees     1968         Company - Public   \n",
       "2           10000+ employees     1781         Company - Public   \n",
       "3      501 to 1000 employees     2000        Company - Private   \n",
       "4     1001 to 5000 employees     2016               Government   \n",
       "..                       ...      ...                      ...   \n",
       "995        1 to 50 employees       -1        Company - Private   \n",
       "996         10000+ employees     1852         Company - Public   \n",
       "997  5001 to 10000 employees     1938         Company - Public   \n",
       "998      51 to 200 employees     2014        Company - Private   \n",
       "999      51 to 200 employees     1996  Non-profit Organisation   \n",
       "\n",
       "                                    Industry                     Sector  \\\n",
       "0                    Advertising & Marketing          Business Services   \n",
       "1                     Research & Development          Business Services   \n",
       "2                  Biotech & Pharmaceuticals  Biotech & Pharmaceuticals   \n",
       "3            Healthcare Services & Hospitals                 Healthcare   \n",
       "4                        Government Agencies                 Government   \n",
       "..                                       ...                        ...   \n",
       "995                                       -1                         -1   \n",
       "996               Banks & Building Societies                    Finance   \n",
       "997    Investment Banking & Asset Management                    Finance   \n",
       "998  Enterprise Software & Network Solutions     Information Technology   \n",
       "999                               Consulting          Business Services   \n",
       "\n",
       "                        Revenue  \\\n",
       "0      Unknown / Non-Applicable   \n",
       "1    ₹100 to ₹500 billion (INR)   \n",
       "2           ₹500+ billion (INR)   \n",
       "3      Unknown / Non-Applicable   \n",
       "4      Unknown / Non-Applicable   \n",
       "..                          ...   \n",
       "995    Unknown / Non-Applicable   \n",
       "996         ₹500+ billion (INR)   \n",
       "997         ₹500+ billion (INR)   \n",
       "998    Unknown / Non-Applicable   \n",
       "999      ₹1 to ₹5 billion (INR)   \n",
       "\n",
       "                                           Competitors  \n",
       "0                 Commerce Signals, Cardlytics, Yodlee  \n",
       "1                                                   -1  \n",
       "2                             Novartis, Baxter, Pfizer  \n",
       "3    Enlivant, Sunrise Senior Living, Brookdale Sen...  \n",
       "4                                                   -1  \n",
       "..                                                 ...  \n",
       "995                                                 -1  \n",
       "996                                                 -1  \n",
       "997                                        Freddie Mac  \n",
       "998                                                 -1  \n",
       "999                          KPMG, Accenture, Deloitte  \n",
       "\n",
       "[1000 rows x 14 columns]"
      ]
     },
     "execution_count": 16,
     "metadata": {},
     "output_type": "execute_result"
    }
   ],
   "source": [
    "survey_raw_df"
   ]
  },
  {
   "cell_type": "markdown",
   "metadata": {},
   "source": [
    "The dataset contains over 1000 responses to 14 questions (although many questions are optional). The responses have been anonymized and there's no personally identifiable information available to us - although each respondent has been assigned a randomized respondent ID.\n",
    "\n",
    "Let's view the list of columns in the data frame."
   ]
  },
  {
   "cell_type": "code",
   "execution_count": 17,
   "metadata": {},
   "outputs": [
    {
     "data": {
      "text/plain": [
       "Index(['Job Title', 'Salary Estimate', 'Job Description', 'Rating',\n",
       "       'Company Name', 'Location', 'Headquarters', 'Size', 'Founded',\n",
       "       'Type of ownership', 'Industry', 'Sector', 'Revenue', 'Competitors'],\n",
       "      dtype='object')"
      ]
     },
     "execution_count": 17,
     "metadata": {},
     "output_type": "execute_result"
    }
   ],
   "source": [
    "survey_raw_df.columns\n"
   ]
  },
  {
   "cell_type": "code",
   "execution_count": 18,
   "metadata": {},
   "outputs": [
    {
     "data": {
      "text/plain": [
       "pandas.core.frame.DataFrame"
      ]
     },
     "execution_count": 18,
     "metadata": {},
     "output_type": "execute_result"
    }
   ],
   "source": [
    "type(survey_raw_df)"
   ]
  },
  {
   "cell_type": "markdown",
   "metadata": {},
   "source": [
    "Keep in mind that these are officially reported dataset, and the actual reported datasets many be different, as this dataset is from UCI repository.\n",
    "\n",
    "We can view some basic information about the data frame using the .info method"
   ]
  },
  {
   "cell_type": "code",
   "execution_count": 19,
   "metadata": {},
   "outputs": [
    {
     "name": "stdout",
     "output_type": "stream",
     "text": [
      "<class 'pandas.core.frame.DataFrame'>\n",
      "RangeIndex: 1000 entries, 0 to 999\n",
      "Data columns (total 14 columns):\n",
      " #   Column             Non-Null Count  Dtype  \n",
      "---  ------             --------------  -----  \n",
      " 0   Job Title          1000 non-null   object \n",
      " 1   Salary Estimate    1000 non-null   object \n",
      " 2   Job Description    1000 non-null   object \n",
      " 3   Rating             1000 non-null   float64\n",
      " 4   Company Name       1000 non-null   object \n",
      " 5   Location           1000 non-null   object \n",
      " 6   Headquarters       1000 non-null   object \n",
      " 7   Size               1000 non-null   object \n",
      " 8   Founded            1000 non-null   int64  \n",
      " 9   Type of ownership  1000 non-null   object \n",
      " 10  Industry           1000 non-null   object \n",
      " 11  Sector             1000 non-null   object \n",
      " 12  Revenue            1000 non-null   object \n",
      " 13  Competitors        1000 non-null   object \n",
      "dtypes: float64(1), int64(1), object(12)\n",
      "memory usage: 109.5+ KB\n"
     ]
    }
   ],
   "source": [
    "survey_raw_df.info()"
   ]
  },
  {
   "cell_type": "markdown",
   "metadata": {},
   "source": [
    "It appears that each column contains values of a specific data type. For the numeric columns, you can view the some statistical information like mean, standard deviation, minimum/maximum values and number of non-empty values using the .describe method."
   ]
  },
  {
   "cell_type": "code",
   "execution_count": 20,
   "metadata": {},
   "outputs": [
    {
     "data": {
      "text/html": [
       "<div>\n",
       "<style scoped>\n",
       "    .dataframe tbody tr th:only-of-type {\n",
       "        vertical-align: middle;\n",
       "    }\n",
       "\n",
       "    .dataframe tbody tr th {\n",
       "        vertical-align: top;\n",
       "    }\n",
       "\n",
       "    .dataframe thead th {\n",
       "        text-align: right;\n",
       "    }\n",
       "</style>\n",
       "<table border=\"1\" class=\"dataframe\">\n",
       "  <thead>\n",
       "    <tr style=\"text-align: right;\">\n",
       "      <th></th>\n",
       "      <th>Rating</th>\n",
       "      <th>Founded</th>\n",
       "    </tr>\n",
       "  </thead>\n",
       "  <tbody>\n",
       "    <tr>\n",
       "      <th>count</th>\n",
       "      <td>1000.000000</td>\n",
       "      <td>1000.000000</td>\n",
       "    </tr>\n",
       "    <tr>\n",
       "      <th>mean</th>\n",
       "      <td>3.581300</td>\n",
       "      <td>1650.801000</td>\n",
       "    </tr>\n",
       "    <tr>\n",
       "      <th>std</th>\n",
       "      <td>1.323818</td>\n",
       "      <td>741.158672</td>\n",
       "    </tr>\n",
       "    <tr>\n",
       "      <th>min</th>\n",
       "      <td>-1.000000</td>\n",
       "      <td>-1.000000</td>\n",
       "    </tr>\n",
       "    <tr>\n",
       "      <th>25%</th>\n",
       "      <td>3.400000</td>\n",
       "      <td>1920.750000</td>\n",
       "    </tr>\n",
       "    <tr>\n",
       "      <th>50%</th>\n",
       "      <td>3.800000</td>\n",
       "      <td>1995.000000</td>\n",
       "    </tr>\n",
       "    <tr>\n",
       "      <th>75%</th>\n",
       "      <td>4.300000</td>\n",
       "      <td>2008.000000</td>\n",
       "    </tr>\n",
       "    <tr>\n",
       "      <th>max</th>\n",
       "      <td>5.000000</td>\n",
       "      <td>2019.000000</td>\n",
       "    </tr>\n",
       "  </tbody>\n",
       "</table>\n",
       "</div>"
      ],
      "text/plain": [
       "            Rating      Founded\n",
       "count  1000.000000  1000.000000\n",
       "mean      3.581300  1650.801000\n",
       "std       1.323818   741.158672\n",
       "min      -1.000000    -1.000000\n",
       "25%       3.400000  1920.750000\n",
       "50%       3.800000  1995.000000\n",
       "75%       4.300000  2008.000000\n",
       "max       5.000000  2019.000000"
      ]
     },
     "execution_count": 20,
     "metadata": {},
     "output_type": "execute_result"
    }
   ],
   "source": [
    "survey_raw_df.describe()"
   ]
  },
  {
   "cell_type": "markdown",
   "metadata": {},
   "source": [
    "##  Saved and uploaded my  work :)\n",
    " It's important to save my work from time, so that I can access it later, or share it online. I can also upload this notebook to my Jovian.ml account using the jovian Python library."
   ]
  },
  {
   "cell_type": "code",
   "execution_count": 21,
   "metadata": {},
   "outputs": [],
   "source": [
    "import jovian"
   ]
  },
  {
   "cell_type": "code",
   "execution_count": 22,
   "metadata": {},
   "outputs": [],
   "source": [
    "project_name = \"datascience_jobs_data_analysis\" "
   ]
  },
  {
   "cell_type": "code",
   "execution_count": 23,
   "metadata": {},
   "outputs": [
    {
     "data": {
      "application/javascript": [
       "window.require && require([\"base/js/namespace\"],function(Jupyter){Jupyter.notebook.save_checkpoint()})"
      ],
      "text/plain": [
       "<IPython.core.display.Javascript object>"
      ]
     },
     "metadata": {},
     "output_type": "display_data"
    },
    {
     "name": "stdout",
     "output_type": "stream",
     "text": [
      "[jovian] Updating notebook \"lalithaps036/datascience-jobs-data-analysis\" on https://jovian.ai\u001b[0m\n",
      "[jovian] Committed successfully! https://jovian.ai/lalithaps036/datascience-jobs-data-analysis\u001b[0m\n"
     ]
    },
    {
     "data": {
      "text/plain": [
       "'https://jovian.ai/lalithaps036/datascience-jobs-data-analysis'"
      ]
     },
     "execution_count": 23,
     "metadata": {},
     "output_type": "execute_result"
    }
   ],
   "source": [
    "jovian.commit(file=project_name)"
   ]
  },
  {
   "cell_type": "markdown",
   "metadata": {},
   "source": [
    "jovian.commit uploads the notebook to my Jovian.ml account, captures the Python environment and creates a shareable link for my notebook as shown above. I can use this link to share my work and let anyone (including you) run my notebooks and reproduce my work."
   ]
  },
  {
   "cell_type": "markdown",
   "metadata": {},
   "source": [
    "## Data Preparation & Cleaning\n",
    "\n",
    "While the survey responses contain a wealth of information, we'll limit our analysis to the following areas:\n",
    "\n",
    "Demographics of the survey respondents & the global programming community as a Data Scientist representatives,\n",
    "\n",
    "Distribution of programming skills, experience and preferences,\n",
    "\n",
    "Employment-related information, preferences & opinions,\n",
    "\n",
    "Let's select a subset of columns with the relevant data for our analysis."
   ]
  },
  {
   "cell_type": "code",
   "execution_count": 24,
   "metadata": {},
   "outputs": [],
   "source": [
    "selected_columns = [ 'Salary Estimate',\n",
    "                    'Job Description', \n",
    "                    'Rating',\n",
    "                    'Company Name',\n",
    "                    'Location', \n",
    "                    'Headquarters', \n",
    "                    'Size',  \n",
    "                    'Type of ownership', \n",
    "                    'Industry', \n",
    "                    'Revenue',\n",
    "                    'Founded'\n",
    "                   ]"
   ]
  },
  {
   "cell_type": "code",
   "execution_count": 25,
   "metadata": {},
   "outputs": [
    {
     "data": {
      "text/plain": [
       "11"
      ]
     },
     "execution_count": 25,
     "metadata": {},
     "output_type": "execute_result"
    }
   ],
   "source": [
    "len(selected_columns)"
   ]
  },
  {
   "cell_type": "markdown",
   "metadata": {},
   "source": [
    "Let's extract a copy of the data from these columns into a new data frame survey_df, which we can continue to modify further without affecting the original data frame."
   ]
  },
  {
   "cell_type": "code",
   "execution_count": 26,
   "metadata": {},
   "outputs": [],
   "source": [
    "survey_df = survey_raw_df[selected_columns].copy()"
   ]
  },
  {
   "cell_type": "markdown",
   "metadata": {},
   "source": [
    "Let's view some basic information about the data frame."
   ]
  },
  {
   "cell_type": "code",
   "execution_count": 27,
   "metadata": {},
   "outputs": [
    {
     "data": {
      "text/plain": [
       "(1000, 11)"
      ]
     },
     "execution_count": 27,
     "metadata": {},
     "output_type": "execute_result"
    }
   ],
   "source": [
    "survey_df.shape\n"
   ]
  },
  {
   "cell_type": "code",
   "execution_count": 28,
   "metadata": {},
   "outputs": [
    {
     "name": "stdout",
     "output_type": "stream",
     "text": [
      "<class 'pandas.core.frame.DataFrame'>\n",
      "RangeIndex: 1000 entries, 0 to 999\n",
      "Data columns (total 11 columns):\n",
      " #   Column             Non-Null Count  Dtype  \n",
      "---  ------             --------------  -----  \n",
      " 0   Salary Estimate    1000 non-null   object \n",
      " 1   Job Description    1000 non-null   object \n",
      " 2   Rating             1000 non-null   float64\n",
      " 3   Company Name       1000 non-null   object \n",
      " 4   Location           1000 non-null   object \n",
      " 5   Headquarters       1000 non-null   object \n",
      " 6   Size               1000 non-null   object \n",
      " 7   Type of ownership  1000 non-null   object \n",
      " 8   Industry           1000 non-null   object \n",
      " 9   Revenue            1000 non-null   object \n",
      " 10  Founded            1000 non-null   int64  \n",
      "dtypes: float64(1), int64(1), object(9)\n",
      "memory usage: 86.1+ KB\n"
     ]
    }
   ],
   "source": [
    "survey_df.info()"
   ]
  },
  {
   "cell_type": "markdown",
   "metadata": {},
   "source": [
    "Most columns have the data type object, either because they contain values of different types, or they contain empty values, which are represented using NaN. It appears that every column contains some empty values, since the Non-Null count for every column is lower than the total number of rows (1000). We'll need to deal with empty values and manually adjust the data type for each column on a case-by-case basis.\n",
    "\n",
    "Let's now view some basic statistics about the the numeric columns.\n"
   ]
  },
  {
   "cell_type": "code",
   "execution_count": 29,
   "metadata": {},
   "outputs": [
    {
     "data": {
      "text/html": [
       "<div>\n",
       "<style scoped>\n",
       "    .dataframe tbody tr th:only-of-type {\n",
       "        vertical-align: middle;\n",
       "    }\n",
       "\n",
       "    .dataframe tbody tr th {\n",
       "        vertical-align: top;\n",
       "    }\n",
       "\n",
       "    .dataframe thead th {\n",
       "        text-align: right;\n",
       "    }\n",
       "</style>\n",
       "<table border=\"1\" class=\"dataframe\">\n",
       "  <thead>\n",
       "    <tr style=\"text-align: right;\">\n",
       "      <th></th>\n",
       "      <th>Rating</th>\n",
       "      <th>Founded</th>\n",
       "    </tr>\n",
       "  </thead>\n",
       "  <tbody>\n",
       "    <tr>\n",
       "      <th>count</th>\n",
       "      <td>1000.000000</td>\n",
       "      <td>1000.000000</td>\n",
       "    </tr>\n",
       "    <tr>\n",
       "      <th>mean</th>\n",
       "      <td>3.581300</td>\n",
       "      <td>1650.801000</td>\n",
       "    </tr>\n",
       "    <tr>\n",
       "      <th>std</th>\n",
       "      <td>1.323818</td>\n",
       "      <td>741.158672</td>\n",
       "    </tr>\n",
       "    <tr>\n",
       "      <th>min</th>\n",
       "      <td>-1.000000</td>\n",
       "      <td>-1.000000</td>\n",
       "    </tr>\n",
       "    <tr>\n",
       "      <th>25%</th>\n",
       "      <td>3.400000</td>\n",
       "      <td>1920.750000</td>\n",
       "    </tr>\n",
       "    <tr>\n",
       "      <th>50%</th>\n",
       "      <td>3.800000</td>\n",
       "      <td>1995.000000</td>\n",
       "    </tr>\n",
       "    <tr>\n",
       "      <th>75%</th>\n",
       "      <td>4.300000</td>\n",
       "      <td>2008.000000</td>\n",
       "    </tr>\n",
       "    <tr>\n",
       "      <th>max</th>\n",
       "      <td>5.000000</td>\n",
       "      <td>2019.000000</td>\n",
       "    </tr>\n",
       "  </tbody>\n",
       "</table>\n",
       "</div>"
      ],
      "text/plain": [
       "            Rating      Founded\n",
       "count  1000.000000  1000.000000\n",
       "mean      3.581300  1650.801000\n",
       "std       1.323818   741.158672\n",
       "min      -1.000000    -1.000000\n",
       "25%       3.400000  1920.750000\n",
       "50%       3.800000  1995.000000\n",
       "75%       4.300000  2008.000000\n",
       "max       5.000000  2019.000000"
      ]
     },
     "execution_count": 29,
     "metadata": {},
     "output_type": "execute_result"
    }
   ],
   "source": [
    "survey_df.describe()"
   ]
  },
  {
   "cell_type": "markdown",
   "metadata": {},
   "source": [
    "Let's now ignore the rating which has got a negetive value "
   ]
  },
  {
   "cell_type": "code",
   "execution_count": 30,
   "metadata": {},
   "outputs": [],
   "source": [
    "survey_df.drop(survey_df[survey_df.Rating < 0].index, inplace=True)"
   ]
  },
  {
   "cell_type": "code",
   "execution_count": 31,
   "metadata": {},
   "outputs": [
    {
     "data": {
      "text/plain": [
       "Unknown / Non-Applicable            300\n",
       "₹500+ billion (INR)                 130\n",
       "₹10 to ₹50 billion (INR)            126\n",
       "₹1 to ₹5 billion (INR)              118\n",
       "₹100 to ₹500 billion (INR)          100\n",
       "₹5 to ₹10 billion (INR)              40\n",
       "₹100 to ₹500 million (INR)           39\n",
       "₹50 to ₹100 billion (INR)            38\n",
       "₹500 million to ₹1 billion (INR)     21\n",
       "₹50 to ₹100 million (INR)            12\n",
       "₹10 to ₹50 million (INR)             11\n",
       "Less than ₹10 million (INR)           3\n",
       "Name: Revenue, dtype: int64"
      ]
     },
     "execution_count": 31,
     "metadata": {},
     "output_type": "execute_result"
    }
   ],
   "source": [
    "survey_df['Revenue'].value_counts()"
   ]
  },
  {
   "cell_type": "code",
   "execution_count": 32,
   "metadata": {},
   "outputs": [
    {
     "data": {
      "text/plain": [
       "3.9    64\n",
       "5.0    62\n",
       "3.8    62\n",
       "3.6    61\n",
       "4.0    61\n",
       "4.1    59\n",
       "3.7    58\n",
       "3.3    56\n",
       "3.4    54\n",
       "3.5    46\n",
       "4.5    36\n",
       "4.6    34\n",
       "4.4    34\n",
       "4.3    33\n",
       "4.2    30\n",
       "4.7    27\n",
       "3.1    26\n",
       "2.9    22\n",
       "3.0    22\n",
       "4.9    20\n",
       "3.2    18\n",
       "4.8    16\n",
       "2.8    11\n",
       "2.6     6\n",
       "2.7     5\n",
       "2.2     4\n",
       "2.3     3\n",
       "2.5     3\n",
       "2.0     1\n",
       "2.4     1\n",
       "1.5     1\n",
       "2.1     1\n",
       "1.9     1\n",
       "Name: Rating, dtype: int64"
      ]
     },
     "execution_count": 32,
     "metadata": {},
     "output_type": "execute_result"
    }
   ],
   "source": [
    "survey_df['Rating'].value_counts()"
   ]
  },
  {
   "cell_type": "code",
   "execution_count": 33,
   "metadata": {},
   "outputs": [
    {
     "data": {
      "text/plain": [
       "$105K-$138K (Glassdoor Est.)          113\n",
       "$57K-$94K (Glassdoor Est.)             30\n",
       "$83K-$99K (Glassdoor Est.)             30\n",
       "$73K-$128K (Glassdoor Est.)            30\n",
       "$108K-$140K (Glassdoor Est.)           30\n",
       "$48K-$91K (Glassdoor Est.)             30\n",
       "$50K-$63K (Glassdoor Est.)             30\n",
       "$95K-$165K (Glassdoor Est.)            30\n",
       "$77K-$92K (Glassdoor Est.)             30\n",
       "$105K-$117K (Glassdoor Est.)           30\n",
       "$139K-$229K (Glassdoor Est.)           30\n",
       "$49K-$88K (Glassdoor Est.)             30\n",
       "$ 17-$ 23 Per Hour(Glassdoor Est.)     29\n",
       "$90K-$109K (Glassdoor Est.)            29\n",
       "$88K-$133K (Glassdoor Est.)            29\n",
       "$70K-$119K (Glassdoor Est.)            29\n",
       "$41K-$73K (Glassdoor Est.)             29\n",
       "$86K-$108K (Glassdoor Est.)            29\n",
       "$106K-$143K (Glassdoor Est.)           29\n",
       "$81K-$102K (Glassdoor Est.)            28\n",
       "$81K-$137K (Glassdoor Est.)            28\n",
       "$110K-$145K (Glassdoor Est.)           28\n",
       "$72K-$121K (Glassdoor Est.)            27\n",
       "$60K-$124K (Glassdoor Est.)            27\n",
       "$125K-$156K (Glassdoor Est.)           26\n",
       "$92K-$146K (Glassdoor Est.)            26\n",
       "$112K-$149K (Glassdoor Est.)           26\n",
       "$71K-$108K (Glassdoor Est.)            26\n",
       "$68K-$119K (Glassdoor Est.)            25\n",
       "$59K-$101K (Glassdoor Est.)            25\n",
       "Name: Salary Estimate, dtype: int64"
      ]
     },
     "execution_count": 33,
     "metadata": {},
     "output_type": "execute_result"
    }
   ],
   "source": [
    "survey_df['Salary Estimate'].value_counts()"
   ]
  },
  {
   "cell_type": "code",
   "execution_count": 34,
   "metadata": {},
   "outputs": [
    {
     "data": {
      "text/plain": [
       "-1       113\n",
       " 2011     40\n",
       " 1996     35\n",
       " 2015     33\n",
       " 1999     31\n",
       "        ... \n",
       " 1936      1\n",
       " 1864      1\n",
       " 1903      1\n",
       " 1979      1\n",
       " 1969      1\n",
       "Name: Founded, Length: 123, dtype: int64"
      ]
     },
     "execution_count": 34,
     "metadata": {},
     "output_type": "execute_result"
    }
   ],
   "source": [
    "survey_df['Founded'].value_counts()"
   ]
  },
  {
   "cell_type": "markdown",
   "metadata": {},
   "source": [
    "Let's filter the founded column and drop the companies where founded year is not mentioned"
   ]
  },
  {
   "cell_type": "code",
   "execution_count": 35,
   "metadata": {},
   "outputs": [],
   "source": [
    "survey_df.drop(survey_df[survey_df.Founded < 0].index, inplace=True)"
   ]
  },
  {
   "cell_type": "code",
   "execution_count": 36,
   "metadata": {},
   "outputs": [
    {
     "data": {
      "text/plain": [
       "2011    40\n",
       "1996    35\n",
       "2015    33\n",
       "1999    31\n",
       "2012    27\n",
       "        ..\n",
       "1925     1\n",
       "1864     1\n",
       "1903     1\n",
       "1979     1\n",
       "1969     1\n",
       "Name: Founded, Length: 122, dtype: int64"
      ]
     },
     "execution_count": 36,
     "metadata": {},
     "output_type": "execute_result"
    }
   ],
   "source": [
    "survey_df['Founded'].value_counts()"
   ]
  },
  {
   "cell_type": "code",
   "execution_count": 41,
   "metadata": {},
   "outputs": [
    {
     "data": {
      "text/plain": [
       "122"
      ]
     },
     "execution_count": 41,
     "metadata": {},
     "output_type": "execute_result"
    }
   ],
   "source": [
    "survey_df['Founded'].nunique()"
   ]
  },
  {
   "cell_type": "code",
   "execution_count": 42,
   "metadata": {},
   "outputs": [],
   "source": [
    "import numpy as np"
   ]
  },
  {
   "cell_type": "markdown",
   "metadata": {},
   "source": [
    "We've now cleaned up and prepared the dataset for analysis. Let's take a look at sample of rows from the data frame."
   ]
  },
  {
   "cell_type": "code",
   "execution_count": 43,
   "metadata": {},
   "outputs": [
    {
     "data": {
      "text/html": [
       "<div>\n",
       "<style scoped>\n",
       "    .dataframe tbody tr th:only-of-type {\n",
       "        vertical-align: middle;\n",
       "    }\n",
       "\n",
       "    .dataframe tbody tr th {\n",
       "        vertical-align: top;\n",
       "    }\n",
       "\n",
       "    .dataframe thead th {\n",
       "        text-align: right;\n",
       "    }\n",
       "</style>\n",
       "<table border=\"1\" class=\"dataframe\">\n",
       "  <thead>\n",
       "    <tr style=\"text-align: right;\">\n",
       "      <th></th>\n",
       "      <th>Salary Estimate</th>\n",
       "      <th>Job Description</th>\n",
       "      <th>Rating</th>\n",
       "      <th>Company Name</th>\n",
       "      <th>Location</th>\n",
       "      <th>Headquarters</th>\n",
       "      <th>Size</th>\n",
       "      <th>Type of ownership</th>\n",
       "      <th>Industry</th>\n",
       "      <th>Revenue</th>\n",
       "      <th>Founded</th>\n",
       "    </tr>\n",
       "  </thead>\n",
       "  <tbody>\n",
       "    <tr>\n",
       "      <th>734</th>\n",
       "      <td>$71K-$108K (Glassdoor Est.)</td>\n",
       "      <td>Company Description\\n\\n*Due to the current env...</td>\n",
       "      <td>3.4</td>\n",
       "      <td>Abercrombie and Fitch Co.\\n3.4</td>\n",
       "      <td>Columbus, OH</td>\n",
       "      <td>New Albany, OH</td>\n",
       "      <td>10000+ employees</td>\n",
       "      <td>Company - Public</td>\n",
       "      <td>Department, Clothing, &amp; Shoe Shops</td>\n",
       "      <td>₹100 to ₹500 billion (INR)</td>\n",
       "      <td>1892</td>\n",
       "    </tr>\n",
       "    <tr>\n",
       "      <th>767</th>\n",
       "      <td>$60K-$124K (Glassdoor Est.)</td>\n",
       "      <td>Kelly Services has been providing outstanding ...</td>\n",
       "      <td>3.4</td>\n",
       "      <td>Kelly\\n3.4</td>\n",
       "      <td>North Chicago, IL</td>\n",
       "      <td>Troy, MI</td>\n",
       "      <td>5001 to 10000 employees</td>\n",
       "      <td>Company - Public</td>\n",
       "      <td>Staffing &amp; Outsourcing</td>\n",
       "      <td>₹500+ billion (INR)</td>\n",
       "      <td>1946</td>\n",
       "    </tr>\n",
       "    <tr>\n",
       "      <th>800</th>\n",
       "      <td>$81K-$102K (Glassdoor Est.)</td>\n",
       "      <td>Employee Type:\\n\\nFull time\\n\\nLocation:\\n\\nMD...</td>\n",
       "      <td>2.6</td>\n",
       "      <td>TreeHouse Foods\\n2.6</td>\n",
       "      <td>Cambridge, MD</td>\n",
       "      <td>Oak Brook, IL</td>\n",
       "      <td>10000+ employees</td>\n",
       "      <td>Company - Public</td>\n",
       "      <td>Food &amp; Drink Manufacturing</td>\n",
       "      <td>₹500+ billion (INR)</td>\n",
       "      <td>2005</td>\n",
       "    </tr>\n",
       "    <tr>\n",
       "      <th>232</th>\n",
       "      <td>$105K-$117K (Glassdoor Est.)</td>\n",
       "      <td>Job Description\\n\\nENERGY FOR WHATS AHEAD\\n\\nA...</td>\n",
       "      <td>3.8</td>\n",
       "      <td>Southern California Edison\\n3.8</td>\n",
       "      <td>Pomona, CA</td>\n",
       "      <td>Rosemead, CA</td>\n",
       "      <td>10000+ employees</td>\n",
       "      <td>Subsidiary or Business Segment</td>\n",
       "      <td>Utilities</td>\n",
       "      <td>₹500+ billion (INR)</td>\n",
       "      <td>1879</td>\n",
       "    </tr>\n",
       "    <tr>\n",
       "      <th>732</th>\n",
       "      <td>$71K-$108K (Glassdoor Est.)</td>\n",
       "      <td>About Datadog:\\n\\nWe're on a mission to build ...</td>\n",
       "      <td>4.0</td>\n",
       "      <td>Datadog\\n4.0</td>\n",
       "      <td>New York, NY</td>\n",
       "      <td>New York, NY</td>\n",
       "      <td>1001 to 5000 employees</td>\n",
       "      <td>Company - Public</td>\n",
       "      <td>Computer Hardware &amp; Software</td>\n",
       "      <td>₹10 to ₹50 billion (INR)</td>\n",
       "      <td>2010</td>\n",
       "    </tr>\n",
       "    <tr>\n",
       "      <th>825</th>\n",
       "      <td>$81K-$137K (Glassdoor Est.)</td>\n",
       "      <td>Job Description\\nTiger Analytics is looking fo...</td>\n",
       "      <td>4.6</td>\n",
       "      <td>Tiger Analytics\\n4.6</td>\n",
       "      <td>Denver, CO</td>\n",
       "      <td>Santa Clara, CA</td>\n",
       "      <td>201 to 500 employees</td>\n",
       "      <td>Company - Private</td>\n",
       "      <td>Consulting</td>\n",
       "      <td>₹1 to ₹5 billion (INR)</td>\n",
       "      <td>2011</td>\n",
       "    </tr>\n",
       "    <tr>\n",
       "      <th>608</th>\n",
       "      <td>$92K-$146K (Glassdoor Est.)</td>\n",
       "      <td>Data Scientist\\n\\nThe Data Science team works ...</td>\n",
       "      <td>4.9</td>\n",
       "      <td>Asana\\n4.9</td>\n",
       "      <td>San Francisco, CA</td>\n",
       "      <td>San Francisco, CA</td>\n",
       "      <td>501 to 1000 employees</td>\n",
       "      <td>Company - Private</td>\n",
       "      <td>Enterprise Software &amp; Network Solutions</td>\n",
       "      <td>Unknown / Non-Applicable</td>\n",
       "      <td>2009</td>\n",
       "    </tr>\n",
       "    <tr>\n",
       "      <th>479</th>\n",
       "      <td>$49K-$88K (Glassdoor Est.)</td>\n",
       "      <td>Knowesis - Interesting Work with Interesting P...</td>\n",
       "      <td>4.5</td>\n",
       "      <td>Knowesis Inc.\\n4.5</td>\n",
       "      <td>Dayton, OH</td>\n",
       "      <td>Fairfax, VA</td>\n",
       "      <td>51 to 200 employees</td>\n",
       "      <td>Company - Private</td>\n",
       "      <td>Consulting</td>\n",
       "      <td>₹1 to ₹5 billion (INR)</td>\n",
       "      <td>2007</td>\n",
       "    </tr>\n",
       "    <tr>\n",
       "      <th>858</th>\n",
       "      <td>$59K-$101K (Glassdoor Est.)</td>\n",
       "      <td>Rubius Therapeutics is a clinical-stage biopha...</td>\n",
       "      <td>4.1</td>\n",
       "      <td>Rubius Therapeutics\\n4.1</td>\n",
       "      <td>Cambridge, MA</td>\n",
       "      <td>Cambridge, MA</td>\n",
       "      <td>201 to 500 employees</td>\n",
       "      <td>Company - Public</td>\n",
       "      <td>Biotech &amp; Pharmaceuticals</td>\n",
       "      <td>₹10 to ₹50 billion (INR)</td>\n",
       "      <td>2013</td>\n",
       "    </tr>\n",
       "    <tr>\n",
       "      <th>842</th>\n",
       "      <td>$59K-$101K (Glassdoor Est.)</td>\n",
       "      <td>REGENXBIO is searching for a translational sci...</td>\n",
       "      <td>4.1</td>\n",
       "      <td>REGENXBIO\\n4.1</td>\n",
       "      <td>Rockville, MD</td>\n",
       "      <td>Rockville, MD</td>\n",
       "      <td>201 to 500 employees</td>\n",
       "      <td>Company - Public</td>\n",
       "      <td>Biotech &amp; Pharmaceuticals</td>\n",
       "      <td>₹100 to ₹500 million (INR)</td>\n",
       "      <td>2009</td>\n",
       "    </tr>\n",
       "  </tbody>\n",
       "</table>\n",
       "</div>"
      ],
      "text/plain": [
       "                  Salary Estimate  \\\n",
       "734   $71K-$108K (Glassdoor Est.)   \n",
       "767   $60K-$124K (Glassdoor Est.)   \n",
       "800   $81K-$102K (Glassdoor Est.)   \n",
       "232  $105K-$117K (Glassdoor Est.)   \n",
       "732   $71K-$108K (Glassdoor Est.)   \n",
       "825   $81K-$137K (Glassdoor Est.)   \n",
       "608   $92K-$146K (Glassdoor Est.)   \n",
       "479    $49K-$88K (Glassdoor Est.)   \n",
       "858   $59K-$101K (Glassdoor Est.)   \n",
       "842   $59K-$101K (Glassdoor Est.)   \n",
       "\n",
       "                                       Job Description  Rating  \\\n",
       "734  Company Description\\n\\n*Due to the current env...     3.4   \n",
       "767  Kelly Services has been providing outstanding ...     3.4   \n",
       "800  Employee Type:\\n\\nFull time\\n\\nLocation:\\n\\nMD...     2.6   \n",
       "232  Job Description\\n\\nENERGY FOR WHATS AHEAD\\n\\nA...     3.8   \n",
       "732  About Datadog:\\n\\nWe're on a mission to build ...     4.0   \n",
       "825  Job Description\\nTiger Analytics is looking fo...     4.6   \n",
       "608  Data Scientist\\n\\nThe Data Science team works ...     4.9   \n",
       "479  Knowesis - Interesting Work with Interesting P...     4.5   \n",
       "858  Rubius Therapeutics is a clinical-stage biopha...     4.1   \n",
       "842  REGENXBIO is searching for a translational sci...     4.1   \n",
       "\n",
       "                        Company Name           Location       Headquarters  \\\n",
       "734   Abercrombie and Fitch Co.\\n3.4       Columbus, OH     New Albany, OH   \n",
       "767                       Kelly\\n3.4  North Chicago, IL           Troy, MI   \n",
       "800             TreeHouse Foods\\n2.6      Cambridge, MD      Oak Brook, IL   \n",
       "232  Southern California Edison\\n3.8         Pomona, CA       Rosemead, CA   \n",
       "732                     Datadog\\n4.0       New York, NY       New York, NY   \n",
       "825             Tiger Analytics\\n4.6         Denver, CO    Santa Clara, CA   \n",
       "608                       Asana\\n4.9  San Francisco, CA  San Francisco, CA   \n",
       "479               Knowesis Inc.\\n4.5         Dayton, OH        Fairfax, VA   \n",
       "858         Rubius Therapeutics\\n4.1      Cambridge, MA      Cambridge, MA   \n",
       "842                   REGENXBIO\\n4.1      Rockville, MD      Rockville, MD   \n",
       "\n",
       "                        Size               Type of ownership  \\\n",
       "734         10000+ employees                Company - Public   \n",
       "767  5001 to 10000 employees                Company - Public   \n",
       "800         10000+ employees                Company - Public   \n",
       "232         10000+ employees  Subsidiary or Business Segment   \n",
       "732   1001 to 5000 employees                Company - Public   \n",
       "825     201 to 500 employees               Company - Private   \n",
       "608    501 to 1000 employees               Company - Private   \n",
       "479      51 to 200 employees               Company - Private   \n",
       "858     201 to 500 employees                Company - Public   \n",
       "842     201 to 500 employees                Company - Public   \n",
       "\n",
       "                                    Industry                     Revenue  \\\n",
       "734       Department, Clothing, & Shoe Shops  ₹100 to ₹500 billion (INR)   \n",
       "767                   Staffing & Outsourcing         ₹500+ billion (INR)   \n",
       "800               Food & Drink Manufacturing         ₹500+ billion (INR)   \n",
       "232                                Utilities         ₹500+ billion (INR)   \n",
       "732             Computer Hardware & Software    ₹10 to ₹50 billion (INR)   \n",
       "825                               Consulting      ₹1 to ₹5 billion (INR)   \n",
       "608  Enterprise Software & Network Solutions    Unknown / Non-Applicable   \n",
       "479                               Consulting      ₹1 to ₹5 billion (INR)   \n",
       "858                Biotech & Pharmaceuticals    ₹10 to ₹50 billion (INR)   \n",
       "842                Biotech & Pharmaceuticals  ₹100 to ₹500 million (INR)   \n",
       "\n",
       "     Founded  \n",
       "734     1892  \n",
       "767     1946  \n",
       "800     2005  \n",
       "232     1879  \n",
       "732     2010  \n",
       "825     2011  \n",
       "608     2009  \n",
       "479     2007  \n",
       "858     2013  \n",
       "842     2009  "
      ]
     },
     "execution_count": 43,
     "metadata": {},
     "output_type": "execute_result"
    }
   ],
   "source": [
    "survey_df.sample(10)"
   ]
  },
  {
   "cell_type": "markdown",
   "metadata": {},
   "source": [
    "Let's save and commit our work before continuing."
   ]
  },
  {
   "cell_type": "code",
   "execution_count": 44,
   "metadata": {},
   "outputs": [],
   "source": [
    "import jovian"
   ]
  },
  {
   "cell_type": "code",
   "execution_count": 45,
   "metadata": {},
   "outputs": [
    {
     "data": {
      "application/javascript": [
       "window.require && require([\"base/js/namespace\"],function(Jupyter){Jupyter.notebook.save_checkpoint()})"
      ],
      "text/plain": [
       "<IPython.core.display.Javascript object>"
      ]
     },
     "metadata": {},
     "output_type": "display_data"
    },
    {
     "name": "stdout",
     "output_type": "stream",
     "text": [
      "[jovian] Updating notebook \"lalithaps036/datascience-jobs-data-analysis\" on https://jovian.ai\u001b[0m\n",
      "[jovian] Committed successfully! https://jovian.ai/lalithaps036/datascience-jobs-data-analysis\u001b[0m\n"
     ]
    },
    {
     "data": {
      "text/plain": [
       "'https://jovian.ai/lalithaps036/datascience-jobs-data-analysis'"
      ]
     },
     "execution_count": 45,
     "metadata": {},
     "output_type": "execute_result"
    }
   ],
   "source": [
    "jovian.commit()"
   ]
  },
  {
   "cell_type": "markdown",
   "metadata": {},
   "source": [
    "## Exploratory Analysis and Visualization\n",
    "\n",
    "Before we can ask interesting questions about the survey responses, it would help to understand what the demographics i.e. salary estimate, revenue and size of the company, employment level , ratings etc. of the respondents look like. \n",
    "\n",
    "It's important to explore these variable in order to understand how representative the survey is of the worldwide programming community, as a survey of this scale generally tends to have some selection bias.\n",
    "\n",
    "Let's begin by installing and importing matplotlib.pyplot and seaborn."
   ]
  },
  {
   "cell_type": "code",
   "execution_count": 46,
   "metadata": {},
   "outputs": [
    {
     "name": "stdout",
     "output_type": "stream",
     "text": [
      "Requirement already satisfied: seaborn in /opt/conda/lib/python3.9/site-packages (0.11.2)\n",
      "Requirement already satisfied: pandas>=0.23 in /opt/conda/lib/python3.9/site-packages (from seaborn) (1.3.3)\n",
      "Requirement already satisfied: scipy>=1.0 in /opt/conda/lib/python3.9/site-packages (from seaborn) (1.7.1)\n",
      "Requirement already satisfied: numpy>=1.15 in /opt/conda/lib/python3.9/site-packages (from seaborn) (1.20.3)\n",
      "Requirement already satisfied: matplotlib>=2.2 in /opt/conda/lib/python3.9/site-packages (from seaborn) (3.4.3)\n",
      "Requirement already satisfied: pyparsing>=2.2.1 in /opt/conda/lib/python3.9/site-packages (from matplotlib>=2.2->seaborn) (2.4.7)\n",
      "Requirement already satisfied: pillow>=6.2.0 in /opt/conda/lib/python3.9/site-packages (from matplotlib>=2.2->seaborn) (8.3.2)\n",
      "Requirement already satisfied: kiwisolver>=1.0.1 in /opt/conda/lib/python3.9/site-packages (from matplotlib>=2.2->seaborn) (1.3.2)\n",
      "Requirement already satisfied: python-dateutil>=2.7 in /opt/conda/lib/python3.9/site-packages (from matplotlib>=2.2->seaborn) (2.8.2)\n",
      "Requirement already satisfied: cycler>=0.10 in /opt/conda/lib/python3.9/site-packages (from matplotlib>=2.2->seaborn) (0.10.0)\n",
      "Requirement already satisfied: six in /opt/conda/lib/python3.9/site-packages (from cycler>=0.10->matplotlib>=2.2->seaborn) (1.16.0)\n",
      "Requirement already satisfied: pytz>=2017.3 in /opt/conda/lib/python3.9/site-packages (from pandas>=0.23->seaborn) (2021.1)\n",
      "Note: you may need to restart the kernel to use updated packages.\n"
     ]
    }
   ],
   "source": [
    "pip install seaborn"
   ]
  },
  {
   "cell_type": "code",
   "execution_count": 47,
   "metadata": {},
   "outputs": [
    {
     "name": "stdout",
     "output_type": "stream",
     "text": [
      "Requirement already satisfied: matplotlib in /opt/conda/lib/python3.9/site-packages (3.4.3)\n",
      "Requirement already satisfied: pillow>=6.2.0 in /opt/conda/lib/python3.9/site-packages (from matplotlib) (8.3.2)\n",
      "Requirement already satisfied: kiwisolver>=1.0.1 in /opt/conda/lib/python3.9/site-packages (from matplotlib) (1.3.2)\n",
      "Requirement already satisfied: python-dateutil>=2.7 in /opt/conda/lib/python3.9/site-packages (from matplotlib) (2.8.2)\n",
      "Requirement already satisfied: pyparsing>=2.2.1 in /opt/conda/lib/python3.9/site-packages (from matplotlib) (2.4.7)\n",
      "Requirement already satisfied: cycler>=0.10 in /opt/conda/lib/python3.9/site-packages (from matplotlib) (0.10.0)\n",
      "Requirement already satisfied: numpy>=1.16 in /opt/conda/lib/python3.9/site-packages (from matplotlib) (1.20.3)\n",
      "Requirement already satisfied: six in /opt/conda/lib/python3.9/site-packages (from cycler>=0.10->matplotlib) (1.16.0)\n",
      "Note: you may need to restart the kernel to use updated packages.\n"
     ]
    }
   ],
   "source": [
    "pip install matplotlib"
   ]
  },
  {
   "cell_type": "code",
   "execution_count": 48,
   "metadata": {},
   "outputs": [],
   "source": [
    "import seaborn as sns\n",
    "import matplotlib\n",
    "import matplotlib.pyplot as plt\n",
    "%matplotlib inline\n",
    "\n",
    "sns.set_style('darkgrid')\n",
    "matplotlib.rcParams['font.size'] = 14\n",
    "matplotlib.rcParams['figure.figsize'] = (9, 5)\n",
    "matplotlib.rcParams['figure.facecolor'] = '#00000000'"
   ]
  },
  {
   "cell_type": "markdown",
   "metadata": {},
   "source": [
    "## Salary Estimate\n",
    "\n",
    "Let's look at the Salary Estimate of the Data Scientists or Data Analyst from which there are responses in the survey, and plot the 10 countries with the highest number of  salaries ."
   ]
  },
  {
   "cell_type": "code",
   "execution_count": 49,
   "metadata": {},
   "outputs": [
    {
     "data": {
      "text/plain": [
       "0        $77K-$92K (Glassdoor Est.)\n",
       "1        $77K-$92K (Glassdoor Est.)\n",
       "2        $77K-$92K (Glassdoor Est.)\n",
       "3        $77K-$92K (Glassdoor Est.)\n",
       "4        $77K-$92K (Glassdoor Est.)\n",
       "                   ...             \n",
       "994    $105K-$138K (Glassdoor Est.)\n",
       "996    $105K-$138K (Glassdoor Est.)\n",
       "997    $105K-$138K (Glassdoor Est.)\n",
       "998    $105K-$138K (Glassdoor Est.)\n",
       "999    $105K-$138K (Glassdoor Est.)\n",
       "Name: Salary Estimate, Length: 825, dtype: object"
      ]
     },
     "execution_count": 49,
     "metadata": {},
     "output_type": "execute_result"
    }
   ],
   "source": [
    "survey_df['Salary Estimate']"
   ]
  },
  {
   "cell_type": "code",
   "execution_count": 50,
   "metadata": {},
   "outputs": [
    {
     "data": {
      "text/plain": [
       "30"
      ]
     },
     "execution_count": 50,
     "metadata": {},
     "output_type": "execute_result"
    }
   ],
   "source": [
    "survey_df['Salary Estimate'].nunique()"
   ]
  },
  {
   "cell_type": "markdown",
   "metadata": {},
   "source": [
    "We can identify the  highest number of  salaries that a Data Scientists or  Data Analysts using the value_counts method."
   ]
  },
  {
   "cell_type": "code",
   "execution_count": 51,
   "metadata": {},
   "outputs": [
    {
     "data": {
      "text/plain": [
       "$105K-$138K (Glassdoor Est.)          92\n",
       "$139K-$229K (Glassdoor Est.)          29\n",
       "$ 17-$ 23 Per Hour(Glassdoor Est.)    29\n",
       "$50K-$63K (Glassdoor Est.)            29\n",
       "$57K-$94K (Glassdoor Est.)            29\n",
       "$95K-$165K (Glassdoor Est.)           28\n",
       "$77K-$92K (Glassdoor Est.)            28\n",
       "$106K-$143K (Glassdoor Est.)          28\n",
       "$90K-$109K (Glassdoor Est.)           28\n",
       "$41K-$73K (Glassdoor Est.)            27\n",
       "$48K-$91K (Glassdoor Est.)            27\n",
       "$105K-$117K (Glassdoor Est.)          26\n",
       "$81K-$137K (Glassdoor Est.)           26\n",
       "$60K-$124K (Glassdoor Est.)           26\n",
       "$49K-$88K (Glassdoor Est.)            26\n",
       "$108K-$140K (Glassdoor Est.)          25\n",
       "$83K-$99K (Glassdoor Est.)            25\n",
       "$70K-$119K (Glassdoor Est.)           25\n",
       "$81K-$102K (Glassdoor Est.)           25\n",
       "$88K-$133K (Glassdoor Est.)           24\n",
       "$112K-$149K (Glassdoor Est.)          24\n",
       "$71K-$108K (Glassdoor Est.)           24\n",
       "$125K-$156K (Glassdoor Est.)          23\n",
       "$68K-$119K (Glassdoor Est.)           22\n",
       "$86K-$108K (Glassdoor Est.)           22\n",
       "$92K-$146K (Glassdoor Est.)           22\n",
       "$59K-$101K (Glassdoor Est.)           22\n",
       "$73K-$128K (Glassdoor Est.)           22\n",
       "$72K-$121K (Glassdoor Est.)           21\n",
       "$110K-$145K (Glassdoor Est.)          21\n",
       "Name: Salary Estimate, dtype: int64"
      ]
     },
     "execution_count": 51,
     "metadata": {},
     "output_type": "execute_result"
    }
   ],
   "source": [
    "top_salaries = survey_df['Salary Estimate'].value_counts().head(30)\n",
    "top_salaries"
   ]
  },
  {
   "cell_type": "markdown",
   "metadata": {},
   "source": [
    "We can visualize this information using a bar chart."
   ]
  },
  {
   "cell_type": "code",
   "execution_count": 52,
   "metadata": {},
   "outputs": [
    {
     "name": "stderr",
     "output_type": "stream",
     "text": [
      "/opt/conda/lib/python3.9/site-packages/seaborn/_decorators.py:36: FutureWarning: Pass the following variables as keyword args: x, y. From version 0.12, the only valid positional argument will be `data`, and passing other arguments without an explicit keyword will result in an error or misinterpretation.\n",
      "  warnings.warn(\n"
     ]
    },
    {
     "data": {
      "image/png": "[encoded data removed]",
      "text/plain": [
       "<Figure size 864x432 with 1 Axes>"
      ]
     },
     "metadata": {
      "needs_background": "light"
     },
     "output_type": "display_data"
    }
   ],
   "source": [
    "plt.figure(figsize=(12,6))\n",
    "plt.xticks(rotation=75)\n",
    "plt.title('Top_salaries')\n",
    "sns.barplot(top_salaries.index, top_salaries);"
   ]
  },
  {
   "cell_type": "markdown",
   "metadata": {},
   "source": [
    "It would be more beautiful to use horizontal bar plot for the above analysis  :)"
   ]
  },
  {
   "cell_type": "code",
   "execution_count": 53,
   "metadata": {},
   "outputs": [
    {
     "name": "stderr",
     "output_type": "stream",
     "text": [
      "/opt/conda/lib/python3.9/site-packages/seaborn/_decorators.py:36: FutureWarning: Pass the following variables as keyword args: x, y. From version 0.12, the only valid positional argument will be `data`, and passing other arguments without an explicit keyword will result in an error or misinterpretation.\n",
      "  warnings.warn(\n"
     ]
    },
    {
     "data": {
      "image/png": "[encoded data removed]",
      "text/plain": [
       "<Figure size 864x864 with 1 Axes>"
      ]
     },
     "metadata": {
      "needs_background": "light"
     },
     "output_type": "display_data"
    }
   ],
   "source": [
    "plt.figure(figsize=(12, 12))\n",
    "sns.barplot(top_salaries, top_salaries.index)\n",
    "plt.title(\"Top salaries\");\n",
    "plt.xlabel('count');"
   ]
  },
  {
   "cell_type": "markdown",
   "metadata": {},
   "source": [
    "## Job Ratings\n",
    "\n",
    "The distribution of the ratings of respondents is another important factor to look at, and we can use a histogram to visualize it."
   ]
  },
  {
   "cell_type": "code",
   "execution_count": 54,
   "metadata": {},
   "outputs": [
    {
     "data": {
      "image/png": "[encoded data removed]",
      "text/plain": [
       "<Figure size 864x432 with 1 Axes>"
      ]
     },
     "metadata": {
      "needs_background": "light"
     },
     "output_type": "display_data"
    }
   ],
   "source": [
    "plt.figure(figsize=(12, 6))\n",
    "plt.title('Job ratings given by Datascientists')\n",
    "plt.xlabel('Ratings')\n",
    "plt.ylabel('Number of respondents')\n",
    "\n",
    "plt.hist(survey_df.Rating, color='purple');"
   ]
  },
  {
   "cell_type": "markdown",
   "metadata": {},
   "source": [
    "It appears that the job ratings given by Data analysts are in  the  range of 3-5, which is somewhat representative of the programming community in general, as a lot of young people have taken up computer as their field of study and thus shows their love towards Data science in general.\n",
    "\n"
   ]
  },
  {
   "cell_type": "code",
   "execution_count": 55,
   "metadata": {},
   "outputs": [],
   "source": [
    "import jovian"
   ]
  },
  {
   "cell_type": "code",
   "execution_count": 56,
   "metadata": {},
   "outputs": [
    {
     "data": {
      "application/javascript": [
       "window.require && require([\"base/js/namespace\"],function(Jupyter){Jupyter.notebook.save_checkpoint()})"
      ],
      "text/plain": [
       "<IPython.core.display.Javascript object>"
      ]
     },
     "metadata": {},
     "output_type": "display_data"
    },
    {
     "name": "stdout",
     "output_type": "stream",
     "text": [
      "[jovian] Updating notebook \"lalithaps036/datascience-jobs-data-analysis\" on https://jovian.ai\u001b[0m\n",
      "[jovian] Committed successfully! https://jovian.ai/lalithaps036/datascience-jobs-data-analysis\u001b[0m\n"
     ]
    },
    {
     "data": {
      "text/plain": [
       "'https://jovian.ai/lalithaps036/datascience-jobs-data-analysis'"
      ]
     },
     "execution_count": 56,
     "metadata": {},
     "output_type": "execute_result"
    }
   ],
   "source": [
    "jovian.commit()"
   ]
  },
  {
   "cell_type": "markdown",
   "metadata": {},
   "source": [
    "## Asking and Answering Questions\n",
    "\n",
    "We've already gained several insights about the respondents and the programming community as a DataScientists, simply by exploring individual columns of the dataset. Let's ask some specific questions, and try to answer them using data frame operations and interesting visualizations."
   ]
  },
  {
   "cell_type": "markdown",
   "metadata": {},
   "source": [
    "## Q: Which company has the highest salary and to which location the same company belong to?\n",
    "\n",
    "To answer, this we can use the Salary Estimate column and retrieve the company name and its location. "
   ]
  },
  {
   "cell_type": "code",
   "execution_count": 57,
   "metadata": {},
   "outputs": [
    {
     "data": {
      "text/plain": [
       "0        $77K-$92K (Glassdoor Est.)\n",
       "1        $77K-$92K (Glassdoor Est.)\n",
       "2        $77K-$92K (Glassdoor Est.)\n",
       "3        $77K-$92K (Glassdoor Est.)\n",
       "4        $77K-$92K (Glassdoor Est.)\n",
       "                   ...             \n",
       "994    $105K-$138K (Glassdoor Est.)\n",
       "996    $105K-$138K (Glassdoor Est.)\n",
       "997    $105K-$138K (Glassdoor Est.)\n",
       "998    $105K-$138K (Glassdoor Est.)\n",
       "999    $105K-$138K (Glassdoor Est.)\n",
       "Name: Salary Estimate, Length: 825, dtype: object"
      ]
     },
     "execution_count": 57,
     "metadata": {},
     "output_type": "execute_result"
    }
   ],
   "source": [
    "survey_df['Salary Estimate']\n"
   ]
  },
  {
   "cell_type": "code",
   "execution_count": 58,
   "metadata": {},
   "outputs": [
    {
     "data": {
      "text/plain": [
       "'$95K-$165K (Glassdoor Est.)'"
      ]
     },
     "execution_count": 58,
     "metadata": {},
     "output_type": "execute_result"
    }
   ],
   "source": [
    "survey_df['Salary Estimate'].max()"
   ]
  },
  {
   "cell_type": "code",
   "execution_count": 59,
   "metadata": {},
   "outputs": [
    {
     "data": {
      "text/html": [
       "<div>\n",
       "<style scoped>\n",
       "    .dataframe tbody tr th:only-of-type {\n",
       "        vertical-align: middle;\n",
       "    }\n",
       "\n",
       "    .dataframe tbody tr th {\n",
       "        vertical-align: top;\n",
       "    }\n",
       "\n",
       "    .dataframe thead th {\n",
       "        text-align: right;\n",
       "    }\n",
       "</style>\n",
       "<table border=\"1\" class=\"dataframe\">\n",
       "  <thead>\n",
       "    <tr style=\"text-align: right;\">\n",
       "      <th></th>\n",
       "      <th>Salary Estimate</th>\n",
       "      <th>Job Description</th>\n",
       "      <th>Rating</th>\n",
       "      <th>Company Name</th>\n",
       "      <th>Location</th>\n",
       "      <th>Headquarters</th>\n",
       "      <th>Size</th>\n",
       "      <th>Type of ownership</th>\n",
       "      <th>Industry</th>\n",
       "      <th>Revenue</th>\n",
       "      <th>Founded</th>\n",
       "    </tr>\n",
       "  </thead>\n",
       "  <tbody>\n",
       "    <tr>\n",
       "      <th>272</th>\n",
       "      <td>$95K-$165K (Glassdoor Est.)</td>\n",
       "      <td>Job Description\\nTitle : Data Scientist\\n\\nLoc...</td>\n",
       "      <td>4.5</td>\n",
       "      <td>Vimerse\\n4.5</td>\n",
       "      <td>San Bruno, CA</td>\n",
       "      <td>Sugar Land, TX</td>\n",
       "      <td>51 to 200 employees</td>\n",
       "      <td>Company - Private</td>\n",
       "      <td>-1</td>\n",
       "      <td>Unknown / Non-Applicable</td>\n",
       "      <td>2011</td>\n",
       "    </tr>\n",
       "  </tbody>\n",
       "</table>\n",
       "</div>"
      ],
      "text/plain": [
       "                 Salary Estimate  \\\n",
       "272  $95K-$165K (Glassdoor Est.)   \n",
       "\n",
       "                                       Job Description  Rating  Company Name  \\\n",
       "272  Job Description\\nTitle : Data Scientist\\n\\nLoc...     4.5  Vimerse\\n4.5   \n",
       "\n",
       "          Location    Headquarters                 Size  Type of ownership  \\\n",
       "272  San Bruno, CA  Sugar Land, TX  51 to 200 employees  Company - Private   \n",
       "\n",
       "    Industry                   Revenue  Founded  \n",
       "272       -1  Unknown / Non-Applicable     2011  "
      ]
     },
     "execution_count": 59,
     "metadata": {},
     "output_type": "execute_result"
    }
   ],
   "source": [
    "max_salary=survey_df.sort_values('Salary Estimate', ascending=False).head(1)\n",
    "max_salary"
   ]
  },
  {
   "cell_type": "markdown",
   "metadata": {},
   "source": [
    "Thus a single row shows all the required information pertaining the company and location of the highest salary of a DataScientist"
   ]
  },
  {
   "cell_type": "markdown",
   "metadata": {},
   "source": [
    "## Q: Find out the names of the  30 companies which has got top ratings! \n",
    "\n",
    "To do the above activity I am using a groupby function and retrieving the values :)"
   ]
  },
  {
   "cell_type": "code",
   "execution_count": 60,
   "metadata": {},
   "outputs": [
    {
     "data": {
      "text/html": [
       "<div>\n",
       "<style scoped>\n",
       "    .dataframe tbody tr th:only-of-type {\n",
       "        vertical-align: middle;\n",
       "    }\n",
       "\n",
       "    .dataframe tbody tr th {\n",
       "        vertical-align: top;\n",
       "    }\n",
       "\n",
       "    .dataframe thead th {\n",
       "        text-align: right;\n",
       "    }\n",
       "</style>\n",
       "<table border=\"1\" class=\"dataframe\">\n",
       "  <thead>\n",
       "    <tr style=\"text-align: right;\">\n",
       "      <th></th>\n",
       "      <th>Rating</th>\n",
       "    </tr>\n",
       "    <tr>\n",
       "      <th>Company Name</th>\n",
       "      <th></th>\n",
       "    </tr>\n",
       "  </thead>\n",
       "  <tbody>\n",
       "    <tr>\n",
       "      <th>Sense360\\n5.0</th>\n",
       "      <td>5.0</td>\n",
       "    </tr>\n",
       "    <tr>\n",
       "      <th>SkySync\\n5.0</th>\n",
       "      <td>5.0</td>\n",
       "    </tr>\n",
       "    <tr>\n",
       "      <th>Arsenal Biosciences\\n5.0</th>\n",
       "      <td>5.0</td>\n",
       "    </tr>\n",
       "    <tr>\n",
       "      <th>Insightin Health\\n5.0</th>\n",
       "      <td>5.0</td>\n",
       "    </tr>\n",
       "    <tr>\n",
       "      <th>Cognitio Corp\\n5.0</th>\n",
       "      <td>5.0</td>\n",
       "    </tr>\n",
       "    <tr>\n",
       "      <th>Mythical Games\\n5.0</th>\n",
       "      <td>5.0</td>\n",
       "    </tr>\n",
       "    <tr>\n",
       "      <th>Alpha Health\\n5.0</th>\n",
       "      <td>5.0</td>\n",
       "    </tr>\n",
       "    <tr>\n",
       "      <th>Snapdocs, Inc.\\n5.0</th>\n",
       "      <td>5.0</td>\n",
       "    </tr>\n",
       "    <tr>\n",
       "      <th>Directly\\n5.0</th>\n",
       "      <td>5.0</td>\n",
       "    </tr>\n",
       "    <tr>\n",
       "      <th>Translate Bio\\n5.0</th>\n",
       "      <td>5.0</td>\n",
       "    </tr>\n",
       "    <tr>\n",
       "      <th>RTI Consulting\\n5.0</th>\n",
       "      <td>5.0</td>\n",
       "    </tr>\n",
       "    <tr>\n",
       "      <th>Cytracom\\n5.0</th>\n",
       "      <td>5.0</td>\n",
       "    </tr>\n",
       "    <tr>\n",
       "      <th>Unlearn.AI\\n5.0</th>\n",
       "      <td>5.0</td>\n",
       "    </tr>\n",
       "    <tr>\n",
       "      <th>Jobot\\n5.0</th>\n",
       "      <td>5.0</td>\n",
       "    </tr>\n",
       "    <tr>\n",
       "      <th>Thrasio\\n5.0</th>\n",
       "      <td>5.0</td>\n",
       "    </tr>\n",
       "    <tr>\n",
       "      <th>LifeOmic\\n5.0</th>\n",
       "      <td>5.0</td>\n",
       "    </tr>\n",
       "    <tr>\n",
       "      <th>Royce Geospatial\\n5.0</th>\n",
       "      <td>5.0</td>\n",
       "    </tr>\n",
       "    <tr>\n",
       "      <th>LogRocket\\n5.0</th>\n",
       "      <td>5.0</td>\n",
       "    </tr>\n",
       "    <tr>\n",
       "      <th>NakedWines.com\\n5.0</th>\n",
       "      <td>5.0</td>\n",
       "    </tr>\n",
       "    <tr>\n",
       "      <th>Averity\\n5.0</th>\n",
       "      <td>5.0</td>\n",
       "    </tr>\n",
       "    <tr>\n",
       "      <th>Strategic Alliance Consulting, Inc\\n5.0</th>\n",
       "      <td>5.0</td>\n",
       "    </tr>\n",
       "    <tr>\n",
       "      <th>TGS Management Company\\n5.0</th>\n",
       "      <td>5.0</td>\n",
       "    </tr>\n",
       "    <tr>\n",
       "      <th>Notion Labs\\n5.0</th>\n",
       "      <td>5.0</td>\n",
       "    </tr>\n",
       "    <tr>\n",
       "      <th>Grammarly\\n5.0</th>\n",
       "      <td>5.0</td>\n",
       "    </tr>\n",
       "    <tr>\n",
       "      <th>Gravity IT Resources\\n5.0</th>\n",
       "      <td>5.0</td>\n",
       "    </tr>\n",
       "    <tr>\n",
       "      <th>Genesis Research\\n5.0</th>\n",
       "      <td>5.0</td>\n",
       "    </tr>\n",
       "    <tr>\n",
       "      <th>605\\n5.0</th>\n",
       "      <td>5.0</td>\n",
       "    </tr>\n",
       "    <tr>\n",
       "      <th>Probity Inc.\\n5.0</th>\n",
       "      <td>5.0</td>\n",
       "    </tr>\n",
       "    <tr>\n",
       "      <th>Feature Labs\\n5.0</th>\n",
       "      <td>5.0</td>\n",
       "    </tr>\n",
       "    <tr>\n",
       "      <th>Narwal Inc\\n5.0</th>\n",
       "      <td>5.0</td>\n",
       "    </tr>\n",
       "  </tbody>\n",
       "</table>\n",
       "</div>"
      ],
      "text/plain": [
       "                                         Rating\n",
       "Company Name                                   \n",
       "Sense360\\n5.0                               5.0\n",
       "SkySync\\n5.0                                5.0\n",
       "Arsenal Biosciences\\n5.0                    5.0\n",
       "Insightin Health\\n5.0                       5.0\n",
       "Cognitio Corp\\n5.0                          5.0\n",
       "Mythical Games\\n5.0                         5.0\n",
       "Alpha Health\\n5.0                           5.0\n",
       "Snapdocs, Inc.\\n5.0                         5.0\n",
       "Directly\\n5.0                               5.0\n",
       "Translate Bio\\n5.0                          5.0\n",
       "RTI Consulting\\n5.0                         5.0\n",
       "Cytracom\\n5.0                               5.0\n",
       "Unlearn.AI\\n5.0                             5.0\n",
       "Jobot\\n5.0                                  5.0\n",
       "Thrasio\\n5.0                                5.0\n",
       "LifeOmic\\n5.0                               5.0\n",
       "Royce Geospatial\\n5.0                       5.0\n",
       "LogRocket\\n5.0                              5.0\n",
       "NakedWines.com\\n5.0                         5.0\n",
       "Averity\\n5.0                                5.0\n",
       "Strategic Alliance Consulting, Inc\\n5.0     5.0\n",
       "TGS Management Company\\n5.0                 5.0\n",
       "Notion Labs\\n5.0                            5.0\n",
       "Grammarly\\n5.0                              5.0\n",
       "Gravity IT Resources\\n5.0                   5.0\n",
       "Genesis Research\\n5.0                       5.0\n",
       "605\\n5.0                                    5.0\n",
       "Probity Inc.\\n5.0                           5.0\n",
       "Feature Labs\\n5.0                           5.0\n",
       "Narwal Inc\\n5.0                             5.0"
      ]
     },
     "execution_count": 60,
     "metadata": {},
     "output_type": "execute_result"
    }
   ],
   "source": [
    "c_df = survey_df.groupby('Company Name')[['Rating']].mean().sort_values('Rating', ascending=False)\n",
    "c_df.head(30)"
   ]
  },
  {
   "cell_type": "markdown",
   "metadata": {},
   "source": [
    "## Q: Find out the density of the company names v/s ratings to visualize the top ratings and the companies !"
   ]
  },
  {
   "cell_type": "code",
   "execution_count": 61,
   "metadata": {},
   "outputs": [
    {
     "name": "stderr",
     "output_type": "stream",
     "text": [
      "/opt/conda/lib/python3.9/site-packages/seaborn/distributions.py:2619: FutureWarning: `distplot` is a deprecated function and will be removed in a future version. Please adapt your code to use either `displot` (a figure-level function with similar flexibility) or `histplot` (an axes-level function for histograms).\n",
      "  warnings.warn(msg, FutureWarning)\n"
     ]
    },
    {
     "data": {
      "image/png": "[encoded data removed]",
      "text/plain": [
       "<Figure size 648x360 with 1 Axes>"
      ]
     },
     "metadata": {
      "needs_background": "light"
     },
     "output_type": "display_data"
    }
   ],
   "source": [
    "plt.title('Company names with itz ratings')\n",
    "sns.distplot(c_df);"
   ]
  },
  {
   "cell_type": "markdown",
   "metadata": {},
   "source": [
    "Hence the density of company ratings corresponding to its name could be seen above"
   ]
  },
  {
   "cell_type": "markdown",
   "metadata": {},
   "source": [
    "The above visualization shows that most of the companies has integrated Data Scientists / Data Analytics post in the past recent years from 2000 and the domain has already boomed introducing many Data Science aspirants  :)"
   ]
  },
  {
   "cell_type": "markdown",
   "metadata": {},
   "source": [
    "## Q: Find the ratings associated with the company founded in the year and visualize the same?\n",
    " \n",
    "  To do this ,I use a line chart and show the association with the year founded"
   ]
  },
  {
   "cell_type": "code",
   "execution_count": 62,
   "metadata": {},
   "outputs": [
    {
     "data": {
      "image/png": "[encoded data removed]",
      "text/plain": [
       "<Figure size 648x360 with 1 Axes>"
      ]
     },
     "metadata": {
      "needs_background": "light"
     },
     "output_type": "display_data"
    }
   ],
   "source": [
    "plt.plot(survey_df.Founded, survey_df.Rating )\n",
    "plt.xlabel('Rating')\n",
    "plt.ylabel('Year founded');"
   ]
  },
  {
   "cell_type": "markdown",
   "metadata": {},
   "source": [
    "This visualization doesn't give a satisfactory analysis and hence Let's try using scatter plot"
   ]
  },
  {
   "cell_type": "markdown",
   "metadata": {},
   "source": [
    "## Q: Which company has been founded in recent years with the ratings "
   ]
  },
  {
   "cell_type": "code",
   "execution_count": 63,
   "metadata": {},
   "outputs": [
    {
     "name": "stderr",
     "output_type": "stream",
     "text": [
      "/opt/conda/lib/python3.9/site-packages/seaborn/_decorators.py:36: FutureWarning: Pass the following variables as keyword args: x, y. From version 0.12, the only valid positional argument will be `data`, and passing other arguments without an explicit keyword will result in an error or misinterpretation.\n",
      "  warnings.warn(\n"
     ]
    },
    {
     "data": {
      "image/png": "[encoded data removed]",
      "text/plain": [
       "<Figure size 648x360 with 1 Axes>"
      ]
     },
     "metadata": {
      "needs_background": "light"
     },
     "output_type": "display_data"
    }
   ],
   "source": [
    "sns.scatterplot(survey_df.Founded, survey_df.Rating , hue = survey_df.Rating, s=150);"
   ]
  },
  {
   "cell_type": "code",
   "execution_count": 64,
   "metadata": {},
   "outputs": [],
   "source": [
    "import jovian"
   ]
  },
  {
   "cell_type": "code",
   "execution_count": 65,
   "metadata": {},
   "outputs": [
    {
     "data": {
      "application/javascript": [
       "window.require && require([\"base/js/namespace\"],function(Jupyter){Jupyter.notebook.save_checkpoint()})"
      ],
      "text/plain": [
       "<IPython.core.display.Javascript object>"
      ]
     },
     "metadata": {},
     "output_type": "display_data"
    },
    {
     "name": "stdout",
     "output_type": "stream",
     "text": [
      "[jovian] Updating notebook \"lalithaps036/datascience-jobs-data-analysis\" on https://jovian.ai\u001b[0m\n",
      "[jovian] Committed successfully! https://jovian.ai/lalithaps036/datascience-jobs-data-analysis\u001b[0m\n"
     ]
    },
    {
     "data": {
      "text/plain": [
       "'https://jovian.ai/lalithaps036/datascience-jobs-data-analysis'"
      ]
     },
     "execution_count": 65,
     "metadata": {},
     "output_type": "execute_result"
    }
   ],
   "source": [
    "jovian.commit()"
   ]
  },
  {
   "cell_type": "markdown",
   "metadata": {},
   "source": [
    "##  Inferences and Conclusions\n",
    "\n",
    "I had  drawn many interesting inferences from the survey, here's a summary of the few of them:\n",
    "\n",
    "Based on the demographics of the survey respondents, we can infer that the survey is somewhat representative of the overall Data Scientists programming community.\n",
    "\n",
    "The programming community is not as diverse as it can be, and although things are improving, we should take more efforts to support & encourage members of underrepresented communities - whether it is in terms of age, country, race, gender or otherwise.\n",
    "\n",
    "\n",
    "Python and SQL are the most used programming languages for Data Analytics and Data Scientists. SQL is extensively used for text mininig.\n",
    "\n",
    "Python is the language most people are interested in learning - since it is an easy-to-learn general purpose programming language well suited for a variety of domains.\n",
    "\n",
    "\n",
    "You can learn and start Data Scientists course  professionally at any age, and you're likely to have a long and fulfilling career if you also enjoy programming as a hobby."
   ]
  },
  {
   "cell_type": "markdown",
   "metadata": {},
   "source": [
    "## References and Future Work\n",
    "\n",
    "There's a wealth of information to be discovered using the survey, and I've barely scratched the surface. Here are some ideas for further exploration:\n",
    "\n",
    "Perform text mining and could extract intersting insights about the reviews in Job Description column\n",
    "\n",
    "Choose a different set of columns (I chose on 11 out of 14) to analyze other facts of the data\n",
    "\n",
    "Prepare an analysis focusing on diversity - and identify areas where underrepresented communities are at par with the majority (e.g. education) and where they aren't (e.g. salaries)\n",
    "\n",
    "Compare the results of this year's survey with the previous years and identify interesting trends\n",
    "References:\n",
    "\n",
    "Text mining: https://medium.com/@datanizing/modern-text-mining-with-python-part-2-of-5-data-exploration-with-pandas-ee3456cf6a4\n",
    "\n",
    "Pandas user guide: https://pandas.pydata.org/docs/user_guide/index.html\n",
    "\n",
    "Matplotlib user guide: https://matplotlib.org/3.3.1/users/index.html\n",
    "\n",
    "Seaborn user guide & tutorial: https://seaborn.pydata.org/tutorial.html\n",
    "\n",
    "UCI repository: https://github.com/JovianML/UCIdata\n"
   ]
  },
  {
   "cell_type": "code",
   "execution_count": null,
   "metadata": {},
   "outputs": [],
   "source": [
    "import jovian"
   ]
  },
  {
   "cell_type": "code",
   "execution_count": null,
   "metadata": {},
   "outputs": [],
   "source": [
    "jovian.commit()"
   ]
  },
  {
   "cell_type": "code",
   "execution_count": null,
   "metadata": {},
   "outputs": [],
   "source": []
  },
  {
   "cell_type": "code",
   "execution_count": null,
   "metadata": {},
   "outputs": [],
   "source": []
  }
 ],
 "metadata": {
  "kernelspec": {
   "display_name": "Python 3 (ipykernel)",
   "language": "python",
   "name": "python3"
  },
  "language_info": {
   "codemirror_mode": {
    "name": "ipython",
    "version": 3
   },
   "file_extension": ".py",
   "mimetype": "text/x-python",
   "name": "python",
   "nbconvert_exporter": "python",
   "pygments_lexer": "ipython3",
   "version": "3.9.6"
  }
 },
 "nbformat": 4,
 "nbformat_minor": 2
}
